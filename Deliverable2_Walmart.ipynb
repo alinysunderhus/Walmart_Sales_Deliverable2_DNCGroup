{
  "nbformat": 4,
  "nbformat_minor": 0,
  "metadata": {
    "colab": {
      "provenance": [],
      "toc_visible": true,
      "authorship_tag": "ABX9TyO/HnqO4TkOcd1P5XhAYmkc",
      "include_colab_link": true
    },
    "kernelspec": {
      "name": "python3",
      "display_name": "Python 3"
    },
    "language_info": {
      "name": "python"
    }
  },
  "cells": [
    {
      "cell_type": "markdown",
      "metadata": {
        "id": "view-in-github",
        "colab_type": "text"
      },
      "source": [
        "<a href=\"https://colab.research.google.com/github/alinysunderhus/Walmart_Sales_Deliverable2_DNCGroup/blob/main/Deliverable2_Walmart.ipynb\" target=\"_parent\"><img src=\"https://colab.research.google.com/assets/colab-badge.svg\" alt=\"Open In Colab\"/></a>"
      ]
    },
    {
      "cell_type": "markdown",
      "source": [
        "# Identificação da Aluna\n",
        "Aliny Pautz Sunderhus\n",
        "\n",
        "RID: 38842"
      ],
      "metadata": {
        "id": "XHYZ7T6u5yFV"
      }
    },
    {
      "cell_type": "markdown",
      "source": [
        "#1 - A Questão do Negócio\n",
        "\n",
        "Fundado em 1962 no estado de Arkansas, sul dos Estados Unidos, por Sam Walton, o Walmart se tornou uma companhia multinacional, responsável por mudar os rumos do ramo varejista.\n",
        "\n",
        "Os concorrentes de Sam não acreditavam em sua ideia de que um negócio de sucesso poderia ser construído em torno da oferta de preços mais baixos e um ótimo serviço. Como se viu, o sucesso da empresa superou até mesmo as expectativas de Sam. A empresa abriu seu capital em 1970, e os lucros financiaram uma expansão constante dos negócios.\n",
        "\n",
        "Por meio da inovação, o Walmart buscar criar uma experiência que permiti que os clientes comprem a qualquer hora e em qualquer lugar online e nas lojas. Neste ano de 2022, o Walmart opera aproximadamente 10.500 lojas em 24 países e sites de comércio eletrônico, empregando 2,3 milhões de associados em todo o mundo – quase 1,6 milhão apenas nos EUA.\n",
        "\n",
        "Maiores informações sobre a companhia podem ser encontradas [nesta página oficial do Walmart](https://corporate.walmart.com/about).\n",
        "\n",
        "Este projeto faz parte dos requisitos para a conclusão do curso Data Expert da Escola DNC e se propõe a analisar um conjunto de dados de vendas de lojas do Walmart. \n",
        "\n",
        "Segundo a pessoa que disponibilizou o conjunto de dados, que aqui trataremos como o próprio cliente Walmart, a empresa está enfrentando um desafio devido a demandas imprevistas e algumas vezes fica sem estoque. Isso estaria relacionado às vendas durante os feriados.\n",
        "\n",
        "A principal meta desta pesquisa será apontar em qual dessas lojas seria melhor fazer um investimento para expandir seu tamanho."
      ],
      "metadata": {
        "id": "_jGtHrQR7sK2"
      }
    },
    {
      "cell_type": "markdown",
      "source": [
        "# 2 - Entendimento do Negócio\n",
        "\n",
        "O Walmart é uma companhia varejista que atua tanto por meio de lojas físicas como por comércio online.\n",
        "\n",
        "O dataset a ser utilizado neste projeto está disponível gratuitamente nesta página da comunidade Kaggle: https://www.kaggle.com/datasets/yasserh/walmart-dataset.\n",
        "\n",
        "Os dados contemplam vendas realizadas entre 05/02/2010 e 01/11/2012 em 45 lojas físicas. Os atributos relacionados a cada venda são:\n",
        "\n",
        "Atributo  | Descrição\n",
        "-------------------|------------------\n",
        "   *Store*    | identificador da loja\n",
        "*Date*       | a semana de vendas\n",
        "*Weekly_Sales*  | vendas naquela semana\n",
        "*Holiday_Flag*  | marcador que diz se a semana possui ou não algum feriado. Recebe 0 em caso negativo e 1 caso haja feriado.\n",
        "*Fuel_Price* | preço do combustível na região da loja\n",
        "*CPI*  | índice de preços ao consumidor$^*$\n",
        "*Unemployment* | taxa de desemprego\n",
        "\n",
        "\\\n",
        "$^*$Índice de Preços ao Consumidor (CPI) mede as mudanças nos preços pagos pelos consumidores por uma cesta de bens e serviços.\n",
        "\n",
        "\\\n",
        "O Walmart realiza vários eventos promocionais de descontos ao longo do ano. Essas remarcações precedem feriados importantes. Os quatro maiores são:\n",
        "\n",
        "\n",
        "Feriado  | Datas\n",
        "-------------------|------------------\n",
        "*Super Bowl* |12-Fev-2010, 11-Fev-2011, 10-Fev-12, 8-Fev-13\n",
        "Dia do trabalho | 10-Set-10, 9-Set-11, 7-Set-12, 6-Set-13\n",
        "Dia de ação de graças | 26-Nov-10, 25-Nov-11, 23-Nov-12, 29-Nov-13\n",
        "Natal | 31-Dez-10, 30-Dez-11, 28-Dez-12, 27-Dez-13"
      ],
      "metadata": {
        "id": "ul92EkiFEPIB"
      }
    },
    {
      "cell_type": "markdown",
      "source": [
        "# 3 - Coleta dos Dados"
      ],
      "metadata": {
        "id": "H-DVnCHmLc9u"
      }
    },
    {
      "cell_type": "markdown",
      "source": [
        "## 3.1 - Importação das bibliotecas"
      ],
      "metadata": {
        "id": "5j_ICeVRMPN7"
      }
    },
    {
      "cell_type": "code",
      "execution_count": 1,
      "metadata": {
        "id": "qrcOhS9A44mC"
      },
      "outputs": [],
      "source": [
        "# Importando bibliotecas\n",
        "\n",
        "import pandas as pd\n",
        "import numpy as np\n",
        "import matplotlib.pyplot as plt\n",
        "from datetime import date\n",
        "import seaborn as sns"
      ]
    },
    {
      "cell_type": "markdown",
      "source": [
        "## 3.2 - Carregamento dos dados"
      ],
      "metadata": {
        "id": "-NpMkSO-MTHl"
      }
    },
    {
      "cell_type": "code",
      "source": [
        "# Carregando os dados\n",
        "\n",
        "url = 'https://raw.githubusercontent.com/alinysunderhus/Walmart_Sales_Deliverable2_DNCGroup/main/Walmart.csv'\n",
        "df = pd.read_csv(url)"
      ],
      "metadata": {
        "id": "ufJv6at-8wR7"
      },
      "execution_count": 2,
      "outputs": []
    },
    {
      "cell_type": "markdown",
      "source": [
        "## 3.3 - Análise inicial dos dados"
      ],
      "metadata": {
        "id": "3jBxtXNHMbow"
      }
    },
    {
      "cell_type": "code",
      "source": [
        "df.head()"
      ],
      "metadata": {
        "colab": {
          "base_uri": "https://localhost:8080/",
          "height": 206
        },
        "id": "_oQb9JaaAdBQ",
        "outputId": "acc9e2a5-7018-4d82-8dd2-5104c527b5c3"
      },
      "execution_count": 3,
      "outputs": [
        {
          "output_type": "execute_result",
          "data": {
            "text/plain": [
              "   Store        Date  Weekly_Sales  Holiday_Flag  Temperature  Fuel_Price  \\\n",
              "0      1  05-02-2010    1643690.90             0        42.31       2.572   \n",
              "1      1  12-02-2010    1641957.44             1        38.51       2.548   \n",
              "2      1  19-02-2010    1611968.17             0        39.93       2.514   \n",
              "3      1  26-02-2010    1409727.59             0        46.63       2.561   \n",
              "4      1  05-03-2010    1554806.68             0        46.50       2.625   \n",
              "\n",
              "          CPI  Unemployment  \n",
              "0  211.096358         8.106  \n",
              "1  211.242170         8.106  \n",
              "2  211.289143         8.106  \n",
              "3  211.319643         8.106  \n",
              "4  211.350143         8.106  "
            ],
            "text/html": [
              "\n",
              "  <div id=\"df-2cc47ab3-da68-4bc6-96df-9dcf5cbbb954\">\n",
              "    <div class=\"colab-df-container\">\n",
              "      <div>\n",
              "<style scoped>\n",
              "    .dataframe tbody tr th:only-of-type {\n",
              "        vertical-align: middle;\n",
              "    }\n",
              "\n",
              "    .dataframe tbody tr th {\n",
              "        vertical-align: top;\n",
              "    }\n",
              "\n",
              "    .dataframe thead th {\n",
              "        text-align: right;\n",
              "    }\n",
              "</style>\n",
              "<table border=\"1\" class=\"dataframe\">\n",
              "  <thead>\n",
              "    <tr style=\"text-align: right;\">\n",
              "      <th></th>\n",
              "      <th>Store</th>\n",
              "      <th>Date</th>\n",
              "      <th>Weekly_Sales</th>\n",
              "      <th>Holiday_Flag</th>\n",
              "      <th>Temperature</th>\n",
              "      <th>Fuel_Price</th>\n",
              "      <th>CPI</th>\n",
              "      <th>Unemployment</th>\n",
              "    </tr>\n",
              "  </thead>\n",
              "  <tbody>\n",
              "    <tr>\n",
              "      <th>0</th>\n",
              "      <td>1</td>\n",
              "      <td>05-02-2010</td>\n",
              "      <td>1643690.90</td>\n",
              "      <td>0</td>\n",
              "      <td>42.31</td>\n",
              "      <td>2.572</td>\n",
              "      <td>211.096358</td>\n",
              "      <td>8.106</td>\n",
              "    </tr>\n",
              "    <tr>\n",
              "      <th>1</th>\n",
              "      <td>1</td>\n",
              "      <td>12-02-2010</td>\n",
              "      <td>1641957.44</td>\n",
              "      <td>1</td>\n",
              "      <td>38.51</td>\n",
              "      <td>2.548</td>\n",
              "      <td>211.242170</td>\n",
              "      <td>8.106</td>\n",
              "    </tr>\n",
              "    <tr>\n",
              "      <th>2</th>\n",
              "      <td>1</td>\n",
              "      <td>19-02-2010</td>\n",
              "      <td>1611968.17</td>\n",
              "      <td>0</td>\n",
              "      <td>39.93</td>\n",
              "      <td>2.514</td>\n",
              "      <td>211.289143</td>\n",
              "      <td>8.106</td>\n",
              "    </tr>\n",
              "    <tr>\n",
              "      <th>3</th>\n",
              "      <td>1</td>\n",
              "      <td>26-02-2010</td>\n",
              "      <td>1409727.59</td>\n",
              "      <td>0</td>\n",
              "      <td>46.63</td>\n",
              "      <td>2.561</td>\n",
              "      <td>211.319643</td>\n",
              "      <td>8.106</td>\n",
              "    </tr>\n",
              "    <tr>\n",
              "      <th>4</th>\n",
              "      <td>1</td>\n",
              "      <td>05-03-2010</td>\n",
              "      <td>1554806.68</td>\n",
              "      <td>0</td>\n",
              "      <td>46.50</td>\n",
              "      <td>2.625</td>\n",
              "      <td>211.350143</td>\n",
              "      <td>8.106</td>\n",
              "    </tr>\n",
              "  </tbody>\n",
              "</table>\n",
              "</div>\n",
              "      <button class=\"colab-df-convert\" onclick=\"convertToInteractive('df-2cc47ab3-da68-4bc6-96df-9dcf5cbbb954')\"\n",
              "              title=\"Convert this dataframe to an interactive table.\"\n",
              "              style=\"display:none;\">\n",
              "        \n",
              "  <svg xmlns=\"http://www.w3.org/2000/svg\" height=\"24px\"viewBox=\"0 0 24 24\"\n",
              "       width=\"24px\">\n",
              "    <path d=\"M0 0h24v24H0V0z\" fill=\"none\"/>\n",
              "    <path d=\"M18.56 5.44l.94 2.06.94-2.06 2.06-.94-2.06-.94-.94-2.06-.94 2.06-2.06.94zm-11 1L8.5 8.5l.94-2.06 2.06-.94-2.06-.94L8.5 2.5l-.94 2.06-2.06.94zm10 10l.94 2.06.94-2.06 2.06-.94-2.06-.94-.94-2.06-.94 2.06-2.06.94z\"/><path d=\"M17.41 7.96l-1.37-1.37c-.4-.4-.92-.59-1.43-.59-.52 0-1.04.2-1.43.59L10.3 9.45l-7.72 7.72c-.78.78-.78 2.05 0 2.83L4 21.41c.39.39.9.59 1.41.59.51 0 1.02-.2 1.41-.59l7.78-7.78 2.81-2.81c.8-.78.8-2.07 0-2.86zM5.41 20L4 18.59l7.72-7.72 1.47 1.35L5.41 20z\"/>\n",
              "  </svg>\n",
              "      </button>\n",
              "      \n",
              "  <style>\n",
              "    .colab-df-container {\n",
              "      display:flex;\n",
              "      flex-wrap:wrap;\n",
              "      gap: 12px;\n",
              "    }\n",
              "\n",
              "    .colab-df-convert {\n",
              "      background-color: #E8F0FE;\n",
              "      border: none;\n",
              "      border-radius: 50%;\n",
              "      cursor: pointer;\n",
              "      display: none;\n",
              "      fill: #1967D2;\n",
              "      height: 32px;\n",
              "      padding: 0 0 0 0;\n",
              "      width: 32px;\n",
              "    }\n",
              "\n",
              "    .colab-df-convert:hover {\n",
              "      background-color: #E2EBFA;\n",
              "      box-shadow: 0px 1px 2px rgba(60, 64, 67, 0.3), 0px 1px 3px 1px rgba(60, 64, 67, 0.15);\n",
              "      fill: #174EA6;\n",
              "    }\n",
              "\n",
              "    [theme=dark] .colab-df-convert {\n",
              "      background-color: #3B4455;\n",
              "      fill: #D2E3FC;\n",
              "    }\n",
              "\n",
              "    [theme=dark] .colab-df-convert:hover {\n",
              "      background-color: #434B5C;\n",
              "      box-shadow: 0px 1px 3px 1px rgba(0, 0, 0, 0.15);\n",
              "      filter: drop-shadow(0px 1px 2px rgba(0, 0, 0, 0.3));\n",
              "      fill: #FFFFFF;\n",
              "    }\n",
              "  </style>\n",
              "\n",
              "      <script>\n",
              "        const buttonEl =\n",
              "          document.querySelector('#df-2cc47ab3-da68-4bc6-96df-9dcf5cbbb954 button.colab-df-convert');\n",
              "        buttonEl.style.display =\n",
              "          google.colab.kernel.accessAllowed ? 'block' : 'none';\n",
              "\n",
              "        async function convertToInteractive(key) {\n",
              "          const element = document.querySelector('#df-2cc47ab3-da68-4bc6-96df-9dcf5cbbb954');\n",
              "          const dataTable =\n",
              "            await google.colab.kernel.invokeFunction('convertToInteractive',\n",
              "                                                     [key], {});\n",
              "          if (!dataTable) return;\n",
              "\n",
              "          const docLinkHtml = 'Like what you see? Visit the ' +\n",
              "            '<a target=\"_blank\" href=https://colab.research.google.com/notebooks/data_table.ipynb>data table notebook</a>'\n",
              "            + ' to learn more about interactive tables.';\n",
              "          element.innerHTML = '';\n",
              "          dataTable['output_type'] = 'display_data';\n",
              "          await google.colab.output.renderOutput(dataTable, element);\n",
              "          const docLink = document.createElement('div');\n",
              "          docLink.innerHTML = docLinkHtml;\n",
              "          element.appendChild(docLink);\n",
              "        }\n",
              "      </script>\n",
              "    </div>\n",
              "  </div>\n",
              "  "
            ]
          },
          "metadata": {},
          "execution_count": 3
        }
      ]
    },
    {
      "cell_type": "code",
      "source": [
        "df.tail()"
      ],
      "metadata": {
        "colab": {
          "base_uri": "https://localhost:8080/",
          "height": 206
        },
        "id": "GAfdv8KJ9iOg",
        "outputId": "e6d3e666-fb64-4849-cf5e-c919a5ad640d"
      },
      "execution_count": 4,
      "outputs": [
        {
          "output_type": "execute_result",
          "data": {
            "text/plain": [
              "      Store        Date  Weekly_Sales  Holiday_Flag  Temperature  Fuel_Price  \\\n",
              "6430     45  28-09-2012     713173.95             0        64.88       3.997   \n",
              "6431     45  05-10-2012     733455.07             0        64.89       3.985   \n",
              "6432     45  12-10-2012     734464.36             0        54.47       4.000   \n",
              "6433     45  19-10-2012     718125.53             0        56.47       3.969   \n",
              "6434     45  26-10-2012     760281.43             0        58.85       3.882   \n",
              "\n",
              "             CPI  Unemployment  \n",
              "6430  192.013558         8.684  \n",
              "6431  192.170412         8.667  \n",
              "6432  192.327265         8.667  \n",
              "6433  192.330854         8.667  \n",
              "6434  192.308899         8.667  "
            ],
            "text/html": [
              "\n",
              "  <div id=\"df-de9f38a4-1489-4d95-ad0e-850d6fc0918c\">\n",
              "    <div class=\"colab-df-container\">\n",
              "      <div>\n",
              "<style scoped>\n",
              "    .dataframe tbody tr th:only-of-type {\n",
              "        vertical-align: middle;\n",
              "    }\n",
              "\n",
              "    .dataframe tbody tr th {\n",
              "        vertical-align: top;\n",
              "    }\n",
              "\n",
              "    .dataframe thead th {\n",
              "        text-align: right;\n",
              "    }\n",
              "</style>\n",
              "<table border=\"1\" class=\"dataframe\">\n",
              "  <thead>\n",
              "    <tr style=\"text-align: right;\">\n",
              "      <th></th>\n",
              "      <th>Store</th>\n",
              "      <th>Date</th>\n",
              "      <th>Weekly_Sales</th>\n",
              "      <th>Holiday_Flag</th>\n",
              "      <th>Temperature</th>\n",
              "      <th>Fuel_Price</th>\n",
              "      <th>CPI</th>\n",
              "      <th>Unemployment</th>\n",
              "    </tr>\n",
              "  </thead>\n",
              "  <tbody>\n",
              "    <tr>\n",
              "      <th>6430</th>\n",
              "      <td>45</td>\n",
              "      <td>28-09-2012</td>\n",
              "      <td>713173.95</td>\n",
              "      <td>0</td>\n",
              "      <td>64.88</td>\n",
              "      <td>3.997</td>\n",
              "      <td>192.013558</td>\n",
              "      <td>8.684</td>\n",
              "    </tr>\n",
              "    <tr>\n",
              "      <th>6431</th>\n",
              "      <td>45</td>\n",
              "      <td>05-10-2012</td>\n",
              "      <td>733455.07</td>\n",
              "      <td>0</td>\n",
              "      <td>64.89</td>\n",
              "      <td>3.985</td>\n",
              "      <td>192.170412</td>\n",
              "      <td>8.667</td>\n",
              "    </tr>\n",
              "    <tr>\n",
              "      <th>6432</th>\n",
              "      <td>45</td>\n",
              "      <td>12-10-2012</td>\n",
              "      <td>734464.36</td>\n",
              "      <td>0</td>\n",
              "      <td>54.47</td>\n",
              "      <td>4.000</td>\n",
              "      <td>192.327265</td>\n",
              "      <td>8.667</td>\n",
              "    </tr>\n",
              "    <tr>\n",
              "      <th>6433</th>\n",
              "      <td>45</td>\n",
              "      <td>19-10-2012</td>\n",
              "      <td>718125.53</td>\n",
              "      <td>0</td>\n",
              "      <td>56.47</td>\n",
              "      <td>3.969</td>\n",
              "      <td>192.330854</td>\n",
              "      <td>8.667</td>\n",
              "    </tr>\n",
              "    <tr>\n",
              "      <th>6434</th>\n",
              "      <td>45</td>\n",
              "      <td>26-10-2012</td>\n",
              "      <td>760281.43</td>\n",
              "      <td>0</td>\n",
              "      <td>58.85</td>\n",
              "      <td>3.882</td>\n",
              "      <td>192.308899</td>\n",
              "      <td>8.667</td>\n",
              "    </tr>\n",
              "  </tbody>\n",
              "</table>\n",
              "</div>\n",
              "      <button class=\"colab-df-convert\" onclick=\"convertToInteractive('df-de9f38a4-1489-4d95-ad0e-850d6fc0918c')\"\n",
              "              title=\"Convert this dataframe to an interactive table.\"\n",
              "              style=\"display:none;\">\n",
              "        \n",
              "  <svg xmlns=\"http://www.w3.org/2000/svg\" height=\"24px\"viewBox=\"0 0 24 24\"\n",
              "       width=\"24px\">\n",
              "    <path d=\"M0 0h24v24H0V0z\" fill=\"none\"/>\n",
              "    <path d=\"M18.56 5.44l.94 2.06.94-2.06 2.06-.94-2.06-.94-.94-2.06-.94 2.06-2.06.94zm-11 1L8.5 8.5l.94-2.06 2.06-.94-2.06-.94L8.5 2.5l-.94 2.06-2.06.94zm10 10l.94 2.06.94-2.06 2.06-.94-2.06-.94-.94-2.06-.94 2.06-2.06.94z\"/><path d=\"M17.41 7.96l-1.37-1.37c-.4-.4-.92-.59-1.43-.59-.52 0-1.04.2-1.43.59L10.3 9.45l-7.72 7.72c-.78.78-.78 2.05 0 2.83L4 21.41c.39.39.9.59 1.41.59.51 0 1.02-.2 1.41-.59l7.78-7.78 2.81-2.81c.8-.78.8-2.07 0-2.86zM5.41 20L4 18.59l7.72-7.72 1.47 1.35L5.41 20z\"/>\n",
              "  </svg>\n",
              "      </button>\n",
              "      \n",
              "  <style>\n",
              "    .colab-df-container {\n",
              "      display:flex;\n",
              "      flex-wrap:wrap;\n",
              "      gap: 12px;\n",
              "    }\n",
              "\n",
              "    .colab-df-convert {\n",
              "      background-color: #E8F0FE;\n",
              "      border: none;\n",
              "      border-radius: 50%;\n",
              "      cursor: pointer;\n",
              "      display: none;\n",
              "      fill: #1967D2;\n",
              "      height: 32px;\n",
              "      padding: 0 0 0 0;\n",
              "      width: 32px;\n",
              "    }\n",
              "\n",
              "    .colab-df-convert:hover {\n",
              "      background-color: #E2EBFA;\n",
              "      box-shadow: 0px 1px 2px rgba(60, 64, 67, 0.3), 0px 1px 3px 1px rgba(60, 64, 67, 0.15);\n",
              "      fill: #174EA6;\n",
              "    }\n",
              "\n",
              "    [theme=dark] .colab-df-convert {\n",
              "      background-color: #3B4455;\n",
              "      fill: #D2E3FC;\n",
              "    }\n",
              "\n",
              "    [theme=dark] .colab-df-convert:hover {\n",
              "      background-color: #434B5C;\n",
              "      box-shadow: 0px 1px 3px 1px rgba(0, 0, 0, 0.15);\n",
              "      filter: drop-shadow(0px 1px 2px rgba(0, 0, 0, 0.3));\n",
              "      fill: #FFFFFF;\n",
              "    }\n",
              "  </style>\n",
              "\n",
              "      <script>\n",
              "        const buttonEl =\n",
              "          document.querySelector('#df-de9f38a4-1489-4d95-ad0e-850d6fc0918c button.colab-df-convert');\n",
              "        buttonEl.style.display =\n",
              "          google.colab.kernel.accessAllowed ? 'block' : 'none';\n",
              "\n",
              "        async function convertToInteractive(key) {\n",
              "          const element = document.querySelector('#df-de9f38a4-1489-4d95-ad0e-850d6fc0918c');\n",
              "          const dataTable =\n",
              "            await google.colab.kernel.invokeFunction('convertToInteractive',\n",
              "                                                     [key], {});\n",
              "          if (!dataTable) return;\n",
              "\n",
              "          const docLinkHtml = 'Like what you see? Visit the ' +\n",
              "            '<a target=\"_blank\" href=https://colab.research.google.com/notebooks/data_table.ipynb>data table notebook</a>'\n",
              "            + ' to learn more about interactive tables.';\n",
              "          element.innerHTML = '';\n",
              "          dataTable['output_type'] = 'display_data';\n",
              "          await google.colab.output.renderOutput(dataTable, element);\n",
              "          const docLink = document.createElement('div');\n",
              "          docLink.innerHTML = docLinkHtml;\n",
              "          element.appendChild(docLink);\n",
              "        }\n",
              "      </script>\n",
              "    </div>\n",
              "  </div>\n",
              "  "
            ]
          },
          "metadata": {},
          "execution_count": 4
        }
      ]
    },
    {
      "cell_type": "code",
      "source": [
        "# Verificando se há ocorrência valores nulos e o tipo de dado de cada coluna\n",
        "df.info()"
      ],
      "metadata": {
        "colab": {
          "base_uri": "https://localhost:8080/"
        },
        "id": "ui-MEarUBDh0",
        "outputId": "b89c32a8-46c8-4f96-e8a5-79897de536a1"
      },
      "execution_count": 5,
      "outputs": [
        {
          "output_type": "stream",
          "name": "stdout",
          "text": [
            "<class 'pandas.core.frame.DataFrame'>\n",
            "RangeIndex: 6435 entries, 0 to 6434\n",
            "Data columns (total 8 columns):\n",
            " #   Column        Non-Null Count  Dtype  \n",
            "---  ------        --------------  -----  \n",
            " 0   Store         6435 non-null   int64  \n",
            " 1   Date          6435 non-null   object \n",
            " 2   Weekly_Sales  6435 non-null   float64\n",
            " 3   Holiday_Flag  6435 non-null   int64  \n",
            " 4   Temperature   6435 non-null   float64\n",
            " 5   Fuel_Price    6435 non-null   float64\n",
            " 6   CPI           6435 non-null   float64\n",
            " 7   Unemployment  6435 non-null   float64\n",
            "dtypes: float64(5), int64(2), object(1)\n",
            "memory usage: 402.3+ KB\n"
          ]
        }
      ]
    },
    {
      "cell_type": "code",
      "source": [
        "# Verificando se há ocorrência de linhas duplicadas\n",
        "df.duplicated().sum()"
      ],
      "metadata": {
        "colab": {
          "base_uri": "https://localhost:8080/"
        },
        "id": "B_QKrKMwGJn4",
        "outputId": "6e49d389-4906-4368-84d8-b07ee3dd32a9"
      },
      "execution_count": 6,
      "outputs": [
        {
          "output_type": "execute_result",
          "data": {
            "text/plain": [
              "0"
            ]
          },
          "metadata": {},
          "execution_count": 6
        }
      ]
    },
    {
      "cell_type": "code",
      "source": [
        "# Verificando medidas estatíticas \n",
        "df.describe()"
      ],
      "metadata": {
        "colab": {
          "base_uri": "https://localhost:8080/",
          "height": 300
        },
        "id": "0y_zgbOmNrZ-",
        "outputId": "57f84697-540c-49a7-cd01-6cd4000ca2b8"
      },
      "execution_count": 7,
      "outputs": [
        {
          "output_type": "execute_result",
          "data": {
            "text/plain": [
              "             Store  Weekly_Sales  Holiday_Flag  Temperature   Fuel_Price  \\\n",
              "count  6435.000000  6.435000e+03   6435.000000  6435.000000  6435.000000   \n",
              "mean     23.000000  1.046965e+06      0.069930    60.663782     3.358607   \n",
              "std      12.988182  5.643666e+05      0.255049    18.444933     0.459020   \n",
              "min       1.000000  2.099862e+05      0.000000    -2.060000     2.472000   \n",
              "25%      12.000000  5.533501e+05      0.000000    47.460000     2.933000   \n",
              "50%      23.000000  9.607460e+05      0.000000    62.670000     3.445000   \n",
              "75%      34.000000  1.420159e+06      0.000000    74.940000     3.735000   \n",
              "max      45.000000  3.818686e+06      1.000000   100.140000     4.468000   \n",
              "\n",
              "               CPI  Unemployment  \n",
              "count  6435.000000   6435.000000  \n",
              "mean    171.578394      7.999151  \n",
              "std      39.356712      1.875885  \n",
              "min     126.064000      3.879000  \n",
              "25%     131.735000      6.891000  \n",
              "50%     182.616521      7.874000  \n",
              "75%     212.743293      8.622000  \n",
              "max     227.232807     14.313000  "
            ],
            "text/html": [
              "\n",
              "  <div id=\"df-e17403dd-662e-4067-a927-8bdb73e78e23\">\n",
              "    <div class=\"colab-df-container\">\n",
              "      <div>\n",
              "<style scoped>\n",
              "    .dataframe tbody tr th:only-of-type {\n",
              "        vertical-align: middle;\n",
              "    }\n",
              "\n",
              "    .dataframe tbody tr th {\n",
              "        vertical-align: top;\n",
              "    }\n",
              "\n",
              "    .dataframe thead th {\n",
              "        text-align: right;\n",
              "    }\n",
              "</style>\n",
              "<table border=\"1\" class=\"dataframe\">\n",
              "  <thead>\n",
              "    <tr style=\"text-align: right;\">\n",
              "      <th></th>\n",
              "      <th>Store</th>\n",
              "      <th>Weekly_Sales</th>\n",
              "      <th>Holiday_Flag</th>\n",
              "      <th>Temperature</th>\n",
              "      <th>Fuel_Price</th>\n",
              "      <th>CPI</th>\n",
              "      <th>Unemployment</th>\n",
              "    </tr>\n",
              "  </thead>\n",
              "  <tbody>\n",
              "    <tr>\n",
              "      <th>count</th>\n",
              "      <td>6435.000000</td>\n",
              "      <td>6.435000e+03</td>\n",
              "      <td>6435.000000</td>\n",
              "      <td>6435.000000</td>\n",
              "      <td>6435.000000</td>\n",
              "      <td>6435.000000</td>\n",
              "      <td>6435.000000</td>\n",
              "    </tr>\n",
              "    <tr>\n",
              "      <th>mean</th>\n",
              "      <td>23.000000</td>\n",
              "      <td>1.046965e+06</td>\n",
              "      <td>0.069930</td>\n",
              "      <td>60.663782</td>\n",
              "      <td>3.358607</td>\n",
              "      <td>171.578394</td>\n",
              "      <td>7.999151</td>\n",
              "    </tr>\n",
              "    <tr>\n",
              "      <th>std</th>\n",
              "      <td>12.988182</td>\n",
              "      <td>5.643666e+05</td>\n",
              "      <td>0.255049</td>\n",
              "      <td>18.444933</td>\n",
              "      <td>0.459020</td>\n",
              "      <td>39.356712</td>\n",
              "      <td>1.875885</td>\n",
              "    </tr>\n",
              "    <tr>\n",
              "      <th>min</th>\n",
              "      <td>1.000000</td>\n",
              "      <td>2.099862e+05</td>\n",
              "      <td>0.000000</td>\n",
              "      <td>-2.060000</td>\n",
              "      <td>2.472000</td>\n",
              "      <td>126.064000</td>\n",
              "      <td>3.879000</td>\n",
              "    </tr>\n",
              "    <tr>\n",
              "      <th>25%</th>\n",
              "      <td>12.000000</td>\n",
              "      <td>5.533501e+05</td>\n",
              "      <td>0.000000</td>\n",
              "      <td>47.460000</td>\n",
              "      <td>2.933000</td>\n",
              "      <td>131.735000</td>\n",
              "      <td>6.891000</td>\n",
              "    </tr>\n",
              "    <tr>\n",
              "      <th>50%</th>\n",
              "      <td>23.000000</td>\n",
              "      <td>9.607460e+05</td>\n",
              "      <td>0.000000</td>\n",
              "      <td>62.670000</td>\n",
              "      <td>3.445000</td>\n",
              "      <td>182.616521</td>\n",
              "      <td>7.874000</td>\n",
              "    </tr>\n",
              "    <tr>\n",
              "      <th>75%</th>\n",
              "      <td>34.000000</td>\n",
              "      <td>1.420159e+06</td>\n",
              "      <td>0.000000</td>\n",
              "      <td>74.940000</td>\n",
              "      <td>3.735000</td>\n",
              "      <td>212.743293</td>\n",
              "      <td>8.622000</td>\n",
              "    </tr>\n",
              "    <tr>\n",
              "      <th>max</th>\n",
              "      <td>45.000000</td>\n",
              "      <td>3.818686e+06</td>\n",
              "      <td>1.000000</td>\n",
              "      <td>100.140000</td>\n",
              "      <td>4.468000</td>\n",
              "      <td>227.232807</td>\n",
              "      <td>14.313000</td>\n",
              "    </tr>\n",
              "  </tbody>\n",
              "</table>\n",
              "</div>\n",
              "      <button class=\"colab-df-convert\" onclick=\"convertToInteractive('df-e17403dd-662e-4067-a927-8bdb73e78e23')\"\n",
              "              title=\"Convert this dataframe to an interactive table.\"\n",
              "              style=\"display:none;\">\n",
              "        \n",
              "  <svg xmlns=\"http://www.w3.org/2000/svg\" height=\"24px\"viewBox=\"0 0 24 24\"\n",
              "       width=\"24px\">\n",
              "    <path d=\"M0 0h24v24H0V0z\" fill=\"none\"/>\n",
              "    <path d=\"M18.56 5.44l.94 2.06.94-2.06 2.06-.94-2.06-.94-.94-2.06-.94 2.06-2.06.94zm-11 1L8.5 8.5l.94-2.06 2.06-.94-2.06-.94L8.5 2.5l-.94 2.06-2.06.94zm10 10l.94 2.06.94-2.06 2.06-.94-2.06-.94-.94-2.06-.94 2.06-2.06.94z\"/><path d=\"M17.41 7.96l-1.37-1.37c-.4-.4-.92-.59-1.43-.59-.52 0-1.04.2-1.43.59L10.3 9.45l-7.72 7.72c-.78.78-.78 2.05 0 2.83L4 21.41c.39.39.9.59 1.41.59.51 0 1.02-.2 1.41-.59l7.78-7.78 2.81-2.81c.8-.78.8-2.07 0-2.86zM5.41 20L4 18.59l7.72-7.72 1.47 1.35L5.41 20z\"/>\n",
              "  </svg>\n",
              "      </button>\n",
              "      \n",
              "  <style>\n",
              "    .colab-df-container {\n",
              "      display:flex;\n",
              "      flex-wrap:wrap;\n",
              "      gap: 12px;\n",
              "    }\n",
              "\n",
              "    .colab-df-convert {\n",
              "      background-color: #E8F0FE;\n",
              "      border: none;\n",
              "      border-radius: 50%;\n",
              "      cursor: pointer;\n",
              "      display: none;\n",
              "      fill: #1967D2;\n",
              "      height: 32px;\n",
              "      padding: 0 0 0 0;\n",
              "      width: 32px;\n",
              "    }\n",
              "\n",
              "    .colab-df-convert:hover {\n",
              "      background-color: #E2EBFA;\n",
              "      box-shadow: 0px 1px 2px rgba(60, 64, 67, 0.3), 0px 1px 3px 1px rgba(60, 64, 67, 0.15);\n",
              "      fill: #174EA6;\n",
              "    }\n",
              "\n",
              "    [theme=dark] .colab-df-convert {\n",
              "      background-color: #3B4455;\n",
              "      fill: #D2E3FC;\n",
              "    }\n",
              "\n",
              "    [theme=dark] .colab-df-convert:hover {\n",
              "      background-color: #434B5C;\n",
              "      box-shadow: 0px 1px 3px 1px rgba(0, 0, 0, 0.15);\n",
              "      filter: drop-shadow(0px 1px 2px rgba(0, 0, 0, 0.3));\n",
              "      fill: #FFFFFF;\n",
              "    }\n",
              "  </style>\n",
              "\n",
              "      <script>\n",
              "        const buttonEl =\n",
              "          document.querySelector('#df-e17403dd-662e-4067-a927-8bdb73e78e23 button.colab-df-convert');\n",
              "        buttonEl.style.display =\n",
              "          google.colab.kernel.accessAllowed ? 'block' : 'none';\n",
              "\n",
              "        async function convertToInteractive(key) {\n",
              "          const element = document.querySelector('#df-e17403dd-662e-4067-a927-8bdb73e78e23');\n",
              "          const dataTable =\n",
              "            await google.colab.kernel.invokeFunction('convertToInteractive',\n",
              "                                                     [key], {});\n",
              "          if (!dataTable) return;\n",
              "\n",
              "          const docLinkHtml = 'Like what you see? Visit the ' +\n",
              "            '<a target=\"_blank\" href=https://colab.research.google.com/notebooks/data_table.ipynb>data table notebook</a>'\n",
              "            + ' to learn more about interactive tables.';\n",
              "          element.innerHTML = '';\n",
              "          dataTable['output_type'] = 'display_data';\n",
              "          await google.colab.output.renderOutput(dataTable, element);\n",
              "          const docLink = document.createElement('div');\n",
              "          docLink.innerHTML = docLinkHtml;\n",
              "          element.appendChild(docLink);\n",
              "        }\n",
              "      </script>\n",
              "    </div>\n",
              "  </div>\n",
              "  "
            ]
          },
          "metadata": {},
          "execution_count": 7
        }
      ]
    },
    {
      "cell_type": "code",
      "source": [
        "# Verificando o número de valores únicos para o identificador das lojas\n",
        "df['Store'].nunique()"
      ],
      "metadata": {
        "colab": {
          "base_uri": "https://localhost:8080/"
        },
        "id": "dBT8Kyrn5Kna",
        "outputId": "0a85a2d5-8885-4ca6-d6cd-90b65970556b"
      },
      "execution_count": 8,
      "outputs": [
        {
          "output_type": "execute_result",
          "data": {
            "text/plain": [
              "45"
            ]
          },
          "metadata": {},
          "execution_count": 8
        }
      ]
    },
    {
      "cell_type": "code",
      "source": [
        "fig = plt.figure()\n",
        "plt.hist(df['Weekly_Sales'], bins=5)\n",
        "plt.xlabel('Vendas semanais')\n",
        "plt.ylabel('Frequência');"
      ],
      "metadata": {
        "colab": {
          "base_uri": "https://localhost:8080/",
          "height": 279
        },
        "id": "-TDMC7ZCgiSI",
        "outputId": "280239b1-db4c-4fe1-ac86-b6bf0904d7ed"
      },
      "execution_count": 9,
      "outputs": [
        {
          "output_type": "display_data",
          "data": {
            "text/plain": [
              "<Figure size 432x288 with 1 Axes>"
            ],
            "image/png": "[encoded data removed]"
          },
          "metadata": {
            "needs_background": "light"
          }
        }
      ]
    },
    {
      "cell_type": "markdown",
      "source": [
        "A partir dessa análise inicial, percebe-se que:\n",
        "* O conjunto de dados possui 6435 registros;\n",
        "* não há valores nulos;\n",
        "* os dados da coluna `date`deveriam ser do tipo *datetime*;\n",
        "* para facilitar o entendimento da temperatura, é interessante converter esses dados de Fahrenheit para graus Celsius;\n",
        "* não há linhas duplicadas;\n",
        "* o conjunto de dados abrange as vendas de 45 lojas;\n",
        "* há registros de feriado em outros meses, que não os informados pelo cliente. \n"
      ],
      "metadata": {
        "id": "ETPMTl1gMtRI"
      }
    },
    {
      "cell_type": "markdown",
      "source": [
        "# 4 - Limpeza dos Dados"
      ],
      "metadata": {
        "id": "iU3mEcXve7Rj"
      }
    },
    {
      "cell_type": "code",
      "source": [
        "# Convertendo os dados da coluna 'date' para o tipo datetime\n",
        "df['Date'] = pd.to_datetime(df['Date'])"
      ],
      "metadata": {
        "id": "V4e1i4khM-IU"
      },
      "execution_count": 10,
      "outputs": []
    },
    {
      "cell_type": "code",
      "source": [
        "# Convertendo os dados da coluna 'Temperature' para °C:\n",
        "# °C = (°F − 32) ÷ 1,8\n",
        "\n",
        "df['Temperature'] = ((df['Temperature'] - 32)/1.8).round(2)\n",
        "df.rename(columns={'Temperature' : 'Temperature_Celsius'}, inplace=True)"
      ],
      "metadata": {
        "id": "KdCvFc3NlqgI"
      },
      "execution_count": 11,
      "outputs": []
    },
    {
      "cell_type": "code",
      "source": [
        "# Os valores de temperatura passem possíveis de acontecer\n",
        "df['Temperature_Celsius'].describe()"
      ],
      "metadata": {
        "colab": {
          "base_uri": "https://localhost:8080/"
        },
        "id": "PHlG7dpWmoY-",
        "outputId": "f79072e3-f4a4-44cf-939c-ab507302f6b8"
      },
      "execution_count": 12,
      "outputs": [
        {
          "output_type": "execute_result",
          "data": {
            "text/plain": [
              "count    6435.000000\n",
              "mean       15.924331\n",
              "std        10.247221\n",
              "min       -18.920000\n",
              "25%         8.590000\n",
              "50%        17.040000\n",
              "75%        23.855000\n",
              "max        37.860000\n",
              "Name: Temperature_Celsius, dtype: float64"
            ]
          },
          "metadata": {},
          "execution_count": 12
        }
      ]
    },
    {
      "cell_type": "markdown",
      "source": [
        "# 5 - Exploração dos Dados\n",
        "\n",
        "Esta etapa do projeto pretende responder as seguintes questões:\n",
        "\n",
        "1. Qual atributo tem maior correlação com as vendas semanais?\n",
        "2. Qual o preço médio de venda semanal por loja? \n",
        "3. Em quantas semanas as lojas ultrapassaram a média do período?\n",
        "4. Quais lojas apresentaram as maires vendas acumuladas durante semanas de feriado?\n",
        "5. Quais lojas apresentaram maior evolução de vendas semanais ao longo do período? \n",
        "\n",
        "\\\n",
        "As últimas 4 questões servirão como peneiras que selecionarão determinado número de lojas. A figura abaixo esquematiza o processo de escolha da loja que deverá receber o investimento.\n",
        "\n",
        "![filtros_googlecolab.png](data:image/png;base64,iVBORw0KGgoAAAANSUhEUgAAAeAAAAFnCAAAAABbCsUpAAAABGdBTUEAALGOfPtRkwAAAAlwSFlzAAAOxAAADsQBlSsOGwAAABl0RVh0U29mdHdhcmUATWljcm9zb2Z0IE9mZmljZX/tNXEAABhASURBVHja7Z1faBtJnsf1lBczD3nLw06eNrD43jxv2Yfdh+ECRwIy+EUDc3A5cCbsZPdwYDIhkD4wjAP2YLCY04FRtMi30w/eIDKGOIw5enwi6xF60Cz2YnYNUjy5rBd5wXMYIZh+6Kv6VVX/0R9L/tPdUun7gzjdXb+qrq6PqrrVpfp9Ew5Ma0ugCQAYBsAwAIYBMAyAYQAMA2AAhgEwDIBhAAwDYBgAwwAYgGEADANgGADDABgGwDAAhoUNOGP0ZRlgGFLAxoW6wQAYBsAADMAADMAA7Cf36KVTmp7Osy2zSAfMPABrBNhkbBXZotPYo63aX9k/G4A1ANx48IoBXnphE+DS/dWbTTO789WT7ELmtzYADz/ghWqJjch7r1I2B7xQdYyimXW+Xn1o3vsePXj4ATeeTKduMJKNySYHbAjAxsv6Y3aoCsDD34Mdh/Xg/HQq69AQfWN6yjaz+XsfPnwyfbMJwDoAbjMz25cbbEgB7zywAVjrHnw2NxgAw6IFPNfffPAcMAwp4A72ezS53oBTaHIAhgEwDIBhAAzAAAzAAAzAAAzAMA0Af/NcAv7ORLvrCPjoX+sE+Me7f0K76wjYef45Aeb/wXQEzLtuinXkIzS7noCd8qcM8BImlLQF7My+SP3l1z+i1bUF/Ppu6tMyGl1fwE4+9QRtrjPgo7uv0ebDDvi4xsySlmux/2g9kNuQnnss1xGADCTgIwK6ymjxn9nNc2wKcK2nFaXnCsu1yLLPsv9NynkAPPECPqqVrUJu2TAWCeg2o9U8f41sVswu9f2MYWRyq9ZW7RCcIgZs14qFZcZ1zarU3oRZvYPatrWeSxuZVesiPjwA3I9tr6VncxuVN1FW82Dbys0tFio2iIUNuDi/Wo5pyDyqFOY3gDhcwL9bP46zus3iUzALFbCxG2993xhgFi7glXT5KK7KHleWlwE4ZMDO4dpiurBVi/peWCuvZeYLb7AUMXTAzA4r67nZuVyBffUN/Y7cZF+K13LzRm6tfOBWoLP1Gdx2KCwTK2DZ8hVrlbW8eMtRq10k66Z42bmSyxhzOdMq+8o2+qnb8NuFXUvi3CcW7ylzOcaav3nK5Vb9ryh7l/jG98qywLIv8xXD4mXnXoe3lQAcNeCAHTBS2/5Jht6D0bJv0qHCsr85cwUAOHzAsV75qeuWLALw4AP+20YgqT6WSMz0V5Sp/OrjTScZCO3Ej5xsvT3aap7tcbz+bhWA2yuw//N/+qMf8HizMXHKntkOKxbA6MFdKvDFT/7tBz9g1mSlexO37NKlRII1nsG7NN/m2Oupm4mrm5f4cZlsJhIfUB7XRx6R6Wwcb7xfFTs8N3chj302VlzmfS6ZSFxtkoNXep0Shb/Y5meopx4l1KmLDlXS8c5c94oE4ID98OAnXwR7cOlKlVBzNNeaYvSjEbA+VnSSDMe1pkzmR42rHLDykUdkOh/IS1NvpfMYgzFlqzwO3xEjvfD+1i3docS3wl84csBsn2WWZ+GVpB4s98WgIPwBOGh/nnxvw7sHi1bl3YJ1DBoBCQJ/pqqnbOpK402ZzFNEr1c+8ohM55tsRBA73JH9kx6sHydYF6yPsU4nHJ65pTuU+Fb6k6NMYKeQZxIovTN7RQ4P4J37rAE+fOy915TB3n/TdNoCv/dn//jOO+985Dj/1fbfOx+5Q7ToBm77dQEskrsDnpK1Tr5kw4DYCQDeZP1UHG9MXN2kDV/plCgAS8c+AHtFDgngna8e2M5CleK9N/7K/rB/pYwtwr7zfRn//fwV+OKnxg8tgOVDqTtEiw0XgS/ZG6KJizjiPtOa74lB2QMsPDhT45b4FCSfkUPw42PIHiwd5RDN7w7iTC5gue96DlEPbnDAL2+ziy/dW/1v85fL+WL+3m7p/ur9PN+m+O8XUIH/+fnkn30PWfJGxodNhi7JH7JM+fTiIVDJ7BlsaZIespSPPCLTiYrckYClB/v7AS8uoZ7iru57pVOiHKKFIyXcUA9pfFh3hxix73oOGWDSZ3A4ZNaTzWIp7xiZF5NPiyr++7krsJ/6h42T6mZmnQGxk79b+VOHCXDtBddrMHyAF9S2cQGAfzB++vmJgcWNxHAALl2aOXM7xwV451fX78tHldKN6ZcEtf6LfOnmdCZfVPHfz1mBP370t4tulAGwYenBkV45AAMwAAMwAA/slc9p9JOdCwuSrhNgGAADMACPOOBM3CsbFsEsVMDHca9siO3kIwLYiXtlAyxswE68KxtgEQCWLR/LygZYVICVnWplQ4cwhqdc2QCLGnDAeq1sSJ17ZQMsVsC9DAHfARgGwDAAhgEwAAMwAAMwAAPw6ALeSd2oij/0O2luZ1qvBBtQwA27NGWzPw8FYLlQiS+EqCEkpQ6AHYezrS3kCTAtVDKzO189yS5kfgvCOgDmC6wbXz8RPZgWKplZ5+vVh+a974FGB8C/oUWZjcmmoxYqmVnjZf0xO1QFm+EHbPxy+r69MJ1aoh5MC5XMbP7ehw+fTN9EfHcdenC7Dc5STwA+pf1hQwL+7nl3p50HeLgaVsB1rjrK5YPvQ9xOS8COuUSAX0A+WFPAP959TfLBdbS6noCdb7h8cNZEo+sK2Pn0m9Tru5AP1hfw67upx39Am+sL2PnP1GM0uc6Aj/4Z8sFDD/hE+eAlyAcPIWDIB2sKuLZnbfDFKWHKB69bu5j8jx7wm/IG6625FavYj3DO2e2gtmWZudnZ3NpWP+fRSRnrohSzTg/4oLhsLK8Vo9Rrtmvl9ZyR2ei1Ls0YgR552ms8LeC9dO92Dqs7F5cXKwAcLuDNlcM4r+6o8ByAQwX87/8b7+UdG6e5eEPDXw+EDNhIr8XYhY820r0B18e4UAYPzFzqL1Tx6RWQOp67k7xVCB+2sAE3y+nFtUoMX1EPt9fTi8U+enD93Z8VTwXtggF3Tec/IR18wLwflQsZY7lg7UX0sHVQK67ljPTq1mGv6xOAx5/esrnohtBLaFPCcjWzaClFUASrX40rcvNvC8BUKj+n30vJPCxNJBIz/ORvZXlcI8vvmUyQXa76ndzKRwiY7E3FWlk2ZtlX4bBCpRzy92Mm+7qdyW2Ua31dnwTcJAkiBbhVCYs0s1ydrDYRrH40rvJu7H1v28jKUr8db/pTXMDUg6UWlixPjObSUykplqZe+Zz8lYgUsDC7tieCHam4OPQ+6+DMROkdFn9rOW8YaV7gbuvX7b4Ak2CR24NblLBcsTIuo9QqgtWfxtXbMVJn8W+TdgqV+szNQSktgPlHxC2PSyi5nnRu2n3lOXmViAewZzKyFb2Rli+U1HSC1dWUxyz5p+VbaD7vcHymW5AC7CQ/6wRYPHN1BOw+jvWnccXd5HGxHQTsT2kH7JXnJOf9ZTQm+GDPerDnNDiAO5iaTugOWHnYF1QBF3Dp0tUmb08++rYpYUnNLBr3WkWwnP40rhwlXKa23SG6dG1f5RApshp+wKI80sjaDJThJG/x3Vee00ADDsXaK+DpB/uUsXiTskHuzmSzTQlLjZJyZA2IYPWpcfWI3Bz/Nj1kUaluDpkiqsHTDfaQxU8uyyONLM/TkH8+SL3ynADYrx88GG+y+vzWddYvZ6MH2NMPHgjAAXkrAL6Y65P6wXgXrStgqR8MwFEDpvAbFysfbHzWXT8YgKMGTDE4IpEPJv1gAI4aMMXgiEA+WOoHn1S75ClFTtWIM+MMmA0WYJpACVs+2NUPPqF2Lih6zxWY+DnpcTaQdjGzTnoB5jE4QpYP9ukH91O7dkp9cwPgdm8eg0NshiYf7NMPVhP+rpp7y0Shmhs0sq6Pb7awyHM8SrjuNGnnpgUdATie63MT6Y1g20ShnBuUc/PqnbR8FU3/xBSecP+STyuOy7Rvg44AHCdgmmizA9MFYjZQTh3RxI/wkUfU5FJdTOEJ9/kp20ubDjoCcIyA1Vyd0zZR6AFWPl0Ay3l9AB5MwGoGrn2iUMwNcsDSxzdbyDfrNIXXVD+0sFXe0rXNoCMAxwhYTLQFAPtmA5fUzJ3wkUfk7GFdTOEJ900BWKYFHQE4TsBnt8H4IgTAAAzA+lrIgE0r3surLANwqICb6/NWbOKCB1uLq00ADhWw4xxby7M5ay/iFUpHNWtlLrN+dLEXD8CdzWatnTYyK1Yl/LApx7Vty8wZi+wz1fsBaG4EVvjPRQBY2MGeVcgt8qAphXD0odd5UJf53Kq1WxuBnhmWnTvKjl2rVfrWh+5g3fWht2o1hH2PH3CwV/fQh/4Y+tDDDbiXQfgMgGEADANgGAADMAADMAADMACPMOCd+zb0oTUGvPPVA1ssUIM+tJ49uEFKhVIAHPrQmgIWEf6gD60tYCESDX1oDQHv/Or6fVsuUIM+tI49uN2gD603YOhDDy/gvgTAYcMLGALgmgOGALjugCEArjlgCIDrDhgC4LoDhgC45oAhAK47YAiA6wD4JAXwdgFwKIAPAWAogOsJ+KhWtgp8sViYCuCr1lbtcHCaa0QA27ViYZlxXbMq4S4WO6htW+u5tJFZtbDSMCrA22vp2dxGJdJVgAfbVm5usVDBXFPogIvzq+WYhsyjSmF+A4jDBfy79eM4a9ssPgWyUAEbu/FW940BZOECXkmXj+Kq63FleRmAQwbsHK4tpgtbkf8yvVZey8wX3oxEpKR4ATM7rKznZudyBfbVN/Q7cpN9KV7LzRu5tfKBW4EulhmBKEodLHPhgGXLV6xV1vLiLUcYYZRIeXouZ1plX9lGX5UbKTPCAaxMvKcMI4xSR+14AI4acMB6hVEyzh1GCYBjBRzH1XgC0QCsJWBPIJrSSNbM6KBId/po30b2xNzhhA/3l2pyHQLPfIpt/WuC6yQQTWnmLdtpTBTjBCzWS14A4O76LqMFWAlEUxppV0kdjiypn3GZDSFcJgXPkqTQIXeMRGKG+9fH912lNLHfdBXSKPe+P7MqkBw3uUYapdLpXk6wIpXYmvCnHU+Jre45FwN18umrZSmrKofLsNmqPi0qbCMAWApEG2ogM2ccJXbGhXKmbKV55nC1nLw3fpemXnGRHAk4oJRGgIXPWze3m1lJpgnAV6qytLd0uv97v6rOL1Qxxc63bvl+Z9tXrK9UGgWklBPbLvFTyPpcvxJUYdMM8AkC0aJybIxmDSPFziQqJYlFgmdvx4QyDu08yjouYE9nyQVMPnmpiuXLLAuUgCkGBaXS/t8ZHHl+1lkvq51nnsyPz9lfrCxV5XW866APgqxPokWkK0bAYSiAdznOBaIN2bm+HZfaZwqdAqwEzxoTrD+KnZMBCx8BeNOfuQ2w8PQBdlU3mT99AvxKbD5nf7GqmiovByy2JWDKeGlwADdsLhAdgQK4EIiWaUKHToidSVRS4cwVRVNNZ9yiIZqPh8ZVD7DYbyqFtFeUezOQWRQoHAkwpXqA/RKWyWfvVp1WqT3l7C/WJ8SmACvRNgmYO5PEl0+FLc4huraQj0ABXAlEyzSTHj2E2JkE7GqeccGzR2KUk+pn9CTDRr47k/uBIfTOZNNVSBO5WzNLJbQ7k9RBKVWOuoZ8OBJia2rHV37Q2StWlirzUv8U22qIVs5+FbY4e/DXTx6GrgDuCUTH/oAQj8XZg53GZDNsBXBPIBqAowa8MJ1akpvhKYCf/dMHwAPYhgAMwAAMwAA8lIBHQfjs1FpoWsnLwgAYgAF4pAFn4l7ZsAhkoQI+jntlQ2wnHxHATtwrG2BhA3biXdkAiwCwbPlYVjbAogKsLOKVDbCoAQesx8qGj8+/sgEWK+AeBuEzAIYBMAyAYQAMwAAMwAAMwAAMwDB9Aed/8diG+re+gEtiCT3Uv3UFbGRe7DpQ/9YX8MLLvQ+rUP/WuAcX5apDqH/rCbh+c/qhA/VvfQEHDerfwwy4tz401L+HGjD0oTUHDH1o3QFDH1pzwNCH1h0w9KF1Bwx9aM0BQx9ad8DQh9YcsAO+OgA+VMtXmK3lellBemLVygADPqjtSQlvvtgorRagMSv3FACvSE+17ozWr7H9XeCOHfBhbctaFTrdK7QWsJ/FhH18Wmi5oslxp3OmVcQSw+gB2zVrNcOaf93aDrX5D2u71gb7CKVNaw9LhKMCTArg1naU/epw11qZhwB4JIDjUwCHAHgUgONVAIcAeOiAY1YAhwB46IBjjJMFAfAoAMcUJwsC4JEBdtw4WWvWbi3sH0DatT1rHQLg55ACP4cCeNkyc3PiLUexVrvIPs1K2xLvOmZZ6VsQAD8tnIsArIzeU27kcrlZ9hnib5fXfK8oe3+hOvK9suSl5OZEMeud31YCcOSAW7se69jeJEO657Cy6Jt04ONAj0EfgOMFHM81nLJuRmKmPsy/PDBnRgpwi8K7lOMN5AmumGhMNpOJ4KGe2tFnFPtOdlmrYfRaw3HS+YJpPZWihx5wi8J7h6bp2ZyhAe56FVnnos6nP+AWhXdxwckiqSoLiWzDlfQWct+ijyv97FbVbTenKx/eQf+7T1lvIxsQG3dPyWoktoV3Y4LkglVyUOC7zrUos0KkMsuFwN96acLTK1ZTwEGFd9aWt2x2mxLC3aSpnfWrzJJ5ia2q2yKnXz68g/53n7LetnHdLzbunpLVSMp3izOwUrlmuUxWFVK7zIV70tm+vELa4io3ee57xeoK2K/wLnowqTsrBWUPsBgaXVVvkm9tUd0WutB++fCn7frffcp628ZnfrFx95SOWzf3DOaMo6prBvWf6YKSRXG2efbR8dKE51Ov2OgBP3p50QLgvRTe5T0p+fL9ahfAnqp3ALCrus1yBuTDn7brf/cr680SfGLjXQGzEf5ytRdgNSoMFGBzOh+JALhP4V0CNt+bspVENm9mIelNA6mU31b62a2q2yqnC3izXf+bPgh9yHrTB8oVG3dPKYdoti3O8AmVqKrrqxDfpFH8mqyfBCzThOe+V2zUgBsPXkUhAB5QeOf3YD7SsmZREtmG2Lwz2XRI7luoeiv97FbVbcoZkA9v1//uU9abK4f7xca9U2Zl3eQYQeO5p+gdEPiuj9+gZyg626YA7F4ZeXrFRg14oVrKhy4A3qbwfvKYMohRBMSTe5fEU3xDixpw48l06sb3YQuAn0rh3UgMImDeObu9nRpkwLzq6kEqPAHwkVd4jxVwNNcAwAAMwAAMwIMOeEQFwHtIgWsEGAbAAAzAIw44ZgVwCICHDfg45pUNcZ17ZAA7Ma9sgIUO2Il1ZQMsCsBk8axsgEUGWFm0KxtgkQNu7XonrWz4+NwrG2DxAu5hUD4DYBgAwwAYBsAADMAADMAADMAADNMB8DfPJeDvIKyjJWBSxOLSdnf/hEbXEbDz/HMC/BzSdpoC5l2XS9sdoc31BOyUubTd0u/R5LoCdmZfpP7ya0jb6Qv49d3UpxAP1hiwk089QYPrDPjoLqTPtAbsQBxac8AwAIYNAOAYYudnQCpCwEb01YzhlAAMwAAMwAAMwAMM2BeFrXNANv/Rzh7dY/gB8EAB7my94/AB8OADphCujcmmCrlYH6Nw9nxHxF2d4S48NjJ5lv5lTIZq5ccvX6/KfPz4LZt22OZMMIAjAMcH2LxlO8kiA+yQoomM6Fp6yEPM1sc3+f+zIgT+U/IsXamKbtuYfDojg9HzfDzmMcVibkxuigD5okwAjhkwD8dsZBkMri1B4dAN1vVMGRSfx0JOXM+S8yfkyYNa366S8ycUqlvmo6jZWdrZpNDqsjQAjrsHzziiB7Oeq/qcjFmvAs5LEYunMyo4/e0qOYseLPPx48ki7XDAvtIAODbAY/IGS/dgfu+90aQ45FcpuPrlqrjvXq4G7sEEmJz/PpG4mqrKfOKmSzsU2FyWBsAxAvaZr7ed0UonxY4G4JgB18dmzlsTAB7oHhyyATAAwwAYgAEYgE9s7a4PSie8lO5LNwaABxxwF+v+5aolBYAjB8wnBMSMAk0liM3S9UtcpM2QkwozciZCyD/SJMPtKn9NLXV8L/+MK/COb7KUOxMqo/Bj+bJJb7oBgKMHzHUUaUaBXkSKTTFh4G3LmQgBmCYZmLN0mM2Kfkryj/WxItdl5se/JD/+6lPmBeB4AE/ZckaBNDbFppgw8LblTIQr4Mrnl/aFui7Ll5iRgB8SafZRURq5tzlglReA4wNMI6jpzieoCQN3W85E+AA7yemsdGYFLb1fDQCekfluy86OHhwvYDGjIO7BtMnvwTPysHjg8t2DBWCTS6FyhxSfk0jSPVgBpuNfyg8C7sHxAo7WABiAYQAMwAAMwACsP+C5ARHWhIUEGAbAMACGATAMgGEADMAwAIYBMAyAYQAMA2DYaez/AfpxP7feNZAbAAAAAElFTkSuQmCC)"
      ],
      "metadata": {
        "id": "4CV5KuWTo2PN"
      }
    },
    {
      "cell_type": "markdown",
      "source": [
        "## 5.1 - Qual atributo tem maior correlação com as vendas semanais?"
      ],
      "metadata": {
        "id": "49wLZmB7tKSA"
      }
    },
    {
      "cell_type": "markdown",
      "source": [
        "A correlação mede o grau em que dois fenômenos estão relacionados entre si.\n",
        "\n",
        "Iremos calcular o coeficiente de correlação de Pearson, relacionando entre si as variáveis do conjunto de dados, com exceção do atributo `Date`.\n",
        "\n",
        "Apesar da variável `Holiday_Flag` ser categórica, segundo Matos e Rodrigues (2019) a correlação de Pearson também pode ser estabelecida entre uma variável numérica e outra categórica binária, quando esta assume valores numéricos. Este é o caso da variável `Holiday_Flag`, que assume o valor 0 quando a semana não possui feriado, e o valor 1 quando há feriado naquela semana.\n",
        "\n",
        "\\\n",
        "Referência: MATOS, Daniel Abud Seabra; RODRIGUES, Erica Castilho. Análise fatorial. 2019.\n"
      ],
      "metadata": {
        "id": "dosAIGIWr8TU"
      }
    },
    {
      "cell_type": "code",
      "source": [
        "# Selecionando os atributos \n",
        "atributos = df[['Weekly_Sales', 'Holiday_Flag', 'Fuel_Price', 'Temperature_Celsius', 'CPI', 'Unemployment']]\n",
        "\n",
        "plt.figure(figsize = (10,5))\n",
        "correlation = sns.heatmap(atributos.corr(method='pearson'), cmap='Blues', linewidths=.5, annot=True)\n",
        "correlation.set(title = \"Matriz de Correlação\\n\")\n",
        "plt.xticks(rotation=45);\n",
        "\n",
        "plt.savefig('matriz_correlacao.png', format='png')"
      ],
      "metadata": {
        "colab": {
          "base_uri": "https://localhost:8080/",
          "height": 422
        },
        "id": "dA4Wk5_JoSdr",
        "outputId": "7e12979e-796d-4b85-b2c0-21fc0d5be6e4"
      },
      "execution_count": 13,
      "outputs": [
        {
          "output_type": "display_data",
          "data": {
            "text/plain": [
              "<Figure size 720x360 with 2 Axes>"
            ],
            "image/png": "[encoded data removed]"
          },
          "metadata": {
            "needs_background": "light"
          }
        }
      ]
    },
    {
      "cell_type": "markdown",
      "source": [
        "O atributo que tem maior correlação com as vendas semanais é a taxa de desemprego, apresentando uma correlação negativa de -0.11. \n",
        "\n",
        "O fato da correlação ser negativa faz sentido, pois espera-se que quanto maior a taxa de desemprego da região, menor o poder aquisitivo daquela população e, consequentemente, menor as vendas.\n",
        "\n",
        "Entretanto, de acordo com Figueiredo Filho e Silva Júnior (2009), este valor de correlação ainda é considerado fraco. \n",
        "\n",
        "\\\n",
        "Referência: FIGUEIREDO FILHO, Dalson Britto; SILVA JÚNIOR, José Alexandre. Desvendando os Mistérios do Coeficiente de Correlação de Pearson (r). Revista Política Hoje, v. 18, n. 1, p. 115-146, 2009."
      ],
      "metadata": {
        "id": "cy3Fe_uMuuZm"
      }
    },
    {
      "cell_type": "markdown",
      "source": [
        "## 5.2 - Qual o preço médio de venda semanal por loja?\n",
        "\n",
        "O preço médio de venda semanal por loja será nosso primeiro critério para decidir em qual loja o Walmart deve investir.\n",
        "Das 45 lojas presentes no *dataframe*, selecionaremos metade das lojas (arredondando para cima, 23 lojas) que possuem maior média de venda semanal nesta primeira avaliação."
      ],
      "metadata": {
        "id": "lN2SkTj14zui"
      }
    },
    {
      "cell_type": "code",
      "source": [
        "# Calculando o preço médio de vendas semanais e salvando as 23 primeiras em um novo Dataframe\n",
        "df_precoMedio = df[['Store', 'Weekly_Sales']].groupby('Store').mean().sort_values(by=['Weekly_Sales'], ascending=False).reset_index().head(23)\n",
        "df_precoMedio.rename(columns={'Weekly_Sales': 'Weekly_Sales_Mean'}, inplace=True)\n",
        "\n",
        "# Salvando esse grupo de dados\n",
        "df_precoMedio.to_csv('Weekly_Sales_Mean.csv')\n",
        "\n",
        "#Exibindo a lista com as 23 lojas que apresentam maior preço média de vendas semanais:\n",
        "df_precoMedio "
      ],
      "metadata": {
        "colab": {
          "base_uri": "https://localhost:8080/",
          "height": 771
        },
        "id": "D4d_iAOi8_nG",
        "outputId": "a2918997-2c4a-4b2a-cf0b-b1ed6fe07797"
      },
      "execution_count": 14,
      "outputs": [
        {
          "output_type": "execute_result",
          "data": {
            "text/plain": [
              "    Store  Weekly_Sales_Mean\n",
              "0      20       2.107677e+06\n",
              "1       4       2.094713e+06\n",
              "2      14       2.020978e+06\n",
              "3      13       2.003620e+06\n",
              "4       2       1.925751e+06\n",
              "5      10       1.899425e+06\n",
              "6      27       1.775216e+06\n",
              "7       6       1.564728e+06\n",
              "8       1       1.555264e+06\n",
              "9      39       1.450668e+06\n",
              "10     19       1.444999e+06\n",
              "11     31       1.395901e+06\n",
              "12     23       1.389864e+06\n",
              "13     24       1.356755e+06\n",
              "14     11       1.356383e+06\n",
              "15     28       1.323522e+06\n",
              "16     41       1.268125e+06\n",
              "17     32       1.166568e+06\n",
              "18     18       1.084718e+06\n",
              "19     22       1.028501e+06\n",
              "20     12       1.009002e+06\n",
              "21     26       1.002912e+06\n",
              "22     34       9.667816e+05"
            ],
            "text/html": [
              "\n",
              "  <div id=\"df-5c27af4b-019d-42fa-aa64-819b8a651f4c\">\n",
              "    <div class=\"colab-df-container\">\n",
              "      <div>\n",
              "<style scoped>\n",
              "    .dataframe tbody tr th:only-of-type {\n",
              "        vertical-align: middle;\n",
              "    }\n",
              "\n",
              "    .dataframe tbody tr th {\n",
              "        vertical-align: top;\n",
              "    }\n",
              "\n",
              "    .dataframe thead th {\n",
              "        text-align: right;\n",
              "    }\n",
              "</style>\n",
              "<table border=\"1\" class=\"dataframe\">\n",
              "  <thead>\n",
              "    <tr style=\"text-align: right;\">\n",
              "      <th></th>\n",
              "      <th>Store</th>\n",
              "      <th>Weekly_Sales_Mean</th>\n",
              "    </tr>\n",
              "  </thead>\n",
              "  <tbody>\n",
              "    <tr>\n",
              "      <th>0</th>\n",
              "      <td>20</td>\n",
              "      <td>2.107677e+06</td>\n",
              "    </tr>\n",
              "    <tr>\n",
              "      <th>1</th>\n",
              "      <td>4</td>\n",
              "      <td>2.094713e+06</td>\n",
              "    </tr>\n",
              "    <tr>\n",
              "      <th>2</th>\n",
              "      <td>14</td>\n",
              "      <td>2.020978e+06</td>\n",
              "    </tr>\n",
              "    <tr>\n",
              "      <th>3</th>\n",
              "      <td>13</td>\n",
              "      <td>2.003620e+06</td>\n",
              "    </tr>\n",
              "    <tr>\n",
              "      <th>4</th>\n",
              "      <td>2</td>\n",
              "      <td>1.925751e+06</td>\n",
              "    </tr>\n",
              "    <tr>\n",
              "      <th>5</th>\n",
              "      <td>10</td>\n",
              "      <td>1.899425e+06</td>\n",
              "    </tr>\n",
              "    <tr>\n",
              "      <th>6</th>\n",
              "      <td>27</td>\n",
              "      <td>1.775216e+06</td>\n",
              "    </tr>\n",
              "    <tr>\n",
              "      <th>7</th>\n",
              "      <td>6</td>\n",
              "      <td>1.564728e+06</td>\n",
              "    </tr>\n",
              "    <tr>\n",
              "      <th>8</th>\n",
              "      <td>1</td>\n",
              "      <td>1.555264e+06</td>\n",
              "    </tr>\n",
              "    <tr>\n",
              "      <th>9</th>\n",
              "      <td>39</td>\n",
              "      <td>1.450668e+06</td>\n",
              "    </tr>\n",
              "    <tr>\n",
              "      <th>10</th>\n",
              "      <td>19</td>\n",
              "      <td>1.444999e+06</td>\n",
              "    </tr>\n",
              "    <tr>\n",
              "      <th>11</th>\n",
              "      <td>31</td>\n",
              "      <td>1.395901e+06</td>\n",
              "    </tr>\n",
              "    <tr>\n",
              "      <th>12</th>\n",
              "      <td>23</td>\n",
              "      <td>1.389864e+06</td>\n",
              "    </tr>\n",
              "    <tr>\n",
              "      <th>13</th>\n",
              "      <td>24</td>\n",
              "      <td>1.356755e+06</td>\n",
              "    </tr>\n",
              "    <tr>\n",
              "      <th>14</th>\n",
              "      <td>11</td>\n",
              "      <td>1.356383e+06</td>\n",
              "    </tr>\n",
              "    <tr>\n",
              "      <th>15</th>\n",
              "      <td>28</td>\n",
              "      <td>1.323522e+06</td>\n",
              "    </tr>\n",
              "    <tr>\n",
              "      <th>16</th>\n",
              "      <td>41</td>\n",
              "      <td>1.268125e+06</td>\n",
              "    </tr>\n",
              "    <tr>\n",
              "      <th>17</th>\n",
              "      <td>32</td>\n",
              "      <td>1.166568e+06</td>\n",
              "    </tr>\n",
              "    <tr>\n",
              "      <th>18</th>\n",
              "      <td>18</td>\n",
              "      <td>1.084718e+06</td>\n",
              "    </tr>\n",
              "    <tr>\n",
              "      <th>19</th>\n",
              "      <td>22</td>\n",
              "      <td>1.028501e+06</td>\n",
              "    </tr>\n",
              "    <tr>\n",
              "      <th>20</th>\n",
              "      <td>12</td>\n",
              "      <td>1.009002e+06</td>\n",
              "    </tr>\n",
              "    <tr>\n",
              "      <th>21</th>\n",
              "      <td>26</td>\n",
              "      <td>1.002912e+06</td>\n",
              "    </tr>\n",
              "    <tr>\n",
              "      <th>22</th>\n",
              "      <td>34</td>\n",
              "      <td>9.667816e+05</td>\n",
              "    </tr>\n",
              "  </tbody>\n",
              "</table>\n",
              "</div>\n",
              "      <button class=\"colab-df-convert\" onclick=\"convertToInteractive('df-5c27af4b-019d-42fa-aa64-819b8a651f4c')\"\n",
              "              title=\"Convert this dataframe to an interactive table.\"\n",
              "              style=\"display:none;\">\n",
              "        \n",
              "  <svg xmlns=\"http://www.w3.org/2000/svg\" height=\"24px\"viewBox=\"0 0 24 24\"\n",
              "       width=\"24px\">\n",
              "    <path d=\"M0 0h24v24H0V0z\" fill=\"none\"/>\n",
              "    <path d=\"M18.56 5.44l.94 2.06.94-2.06 2.06-.94-2.06-.94-.94-2.06-.94 2.06-2.06.94zm-11 1L8.5 8.5l.94-2.06 2.06-.94-2.06-.94L8.5 2.5l-.94 2.06-2.06.94zm10 10l.94 2.06.94-2.06 2.06-.94-2.06-.94-.94-2.06-.94 2.06-2.06.94z\"/><path d=\"M17.41 7.96l-1.37-1.37c-.4-.4-.92-.59-1.43-.59-.52 0-1.04.2-1.43.59L10.3 9.45l-7.72 7.72c-.78.78-.78 2.05 0 2.83L4 21.41c.39.39.9.59 1.41.59.51 0 1.02-.2 1.41-.59l7.78-7.78 2.81-2.81c.8-.78.8-2.07 0-2.86zM5.41 20L4 18.59l7.72-7.72 1.47 1.35L5.41 20z\"/>\n",
              "  </svg>\n",
              "      </button>\n",
              "      \n",
              "  <style>\n",
              "    .colab-df-container {\n",
              "      display:flex;\n",
              "      flex-wrap:wrap;\n",
              "      gap: 12px;\n",
              "    }\n",
              "\n",
              "    .colab-df-convert {\n",
              "      background-color: #E8F0FE;\n",
              "      border: none;\n",
              "      border-radius: 50%;\n",
              "      cursor: pointer;\n",
              "      display: none;\n",
              "      fill: #1967D2;\n",
              "      height: 32px;\n",
              "      padding: 0 0 0 0;\n",
              "      width: 32px;\n",
              "    }\n",
              "\n",
              "    .colab-df-convert:hover {\n",
              "      background-color: #E2EBFA;\n",
              "      box-shadow: 0px 1px 2px rgba(60, 64, 67, 0.3), 0px 1px 3px 1px rgba(60, 64, 67, 0.15);\n",
              "      fill: #174EA6;\n",
              "    }\n",
              "\n",
              "    [theme=dark] .colab-df-convert {\n",
              "      background-color: #3B4455;\n",
              "      fill: #D2E3FC;\n",
              "    }\n",
              "\n",
              "    [theme=dark] .colab-df-convert:hover {\n",
              "      background-color: #434B5C;\n",
              "      box-shadow: 0px 1px 3px 1px rgba(0, 0, 0, 0.15);\n",
              "      filter: drop-shadow(0px 1px 2px rgba(0, 0, 0, 0.3));\n",
              "      fill: #FFFFFF;\n",
              "    }\n",
              "  </style>\n",
              "\n",
              "      <script>\n",
              "        const buttonEl =\n",
              "          document.querySelector('#df-5c27af4b-019d-42fa-aa64-819b8a651f4c button.colab-df-convert');\n",
              "        buttonEl.style.display =\n",
              "          google.colab.kernel.accessAllowed ? 'block' : 'none';\n",
              "\n",
              "        async function convertToInteractive(key) {\n",
              "          const element = document.querySelector('#df-5c27af4b-019d-42fa-aa64-819b8a651f4c');\n",
              "          const dataTable =\n",
              "            await google.colab.kernel.invokeFunction('convertToInteractive',\n",
              "                                                     [key], {});\n",
              "          if (!dataTable) return;\n",
              "\n",
              "          const docLinkHtml = 'Like what you see? Visit the ' +\n",
              "            '<a target=\"_blank\" href=https://colab.research.google.com/notebooks/data_table.ipynb>data table notebook</a>'\n",
              "            + ' to learn more about interactive tables.';\n",
              "          element.innerHTML = '';\n",
              "          dataTable['output_type'] = 'display_data';\n",
              "          await google.colab.output.renderOutput(dataTable, element);\n",
              "          const docLink = document.createElement('div');\n",
              "          docLink.innerHTML = docLinkHtml;\n",
              "          element.appendChild(docLink);\n",
              "        }\n",
              "      </script>\n",
              "    </div>\n",
              "  </div>\n",
              "  "
            ]
          },
          "metadata": {},
          "execution_count": 14
        }
      ]
    },
    {
      "cell_type": "code",
      "source": [
        "plt.rcParams[\"figure.figsize\"] = (8,6)\n",
        "df_precoMedio.plot(kind='barh',y='Weekly_Sales_Mean',x='Store', legend=False)\n",
        "plt.title('Preço médio de vendas semanais')\n",
        "plt.xlabel('Média de vendas semanais (10^6)')\n",
        "plt.ylabel('Loja')\n",
        "plt.savefig('filtro1.png', format='png');"
      ],
      "metadata": {
        "id": "JTQAQTy_wqqo",
        "colab": {
          "base_uri": "https://localhost:8080/",
          "height": 404
        },
        "outputId": "6a1a81e7-3013-455c-9be9-bd7ecce03ad5"
      },
      "execution_count": 15,
      "outputs": [
        {
          "output_type": "display_data",
          "data": {
            "text/plain": [
              "<Figure size 576x432 with 1 Axes>"
            ],
            "image/png": "[encoded data removed]"
          },
          "metadata": {
            "needs_background": "light"
          }
        }
      ]
    },
    {
      "cell_type": "markdown",
      "source": [
        "## 5.3 - Em quantas semanas as lojas ultrapassaram a média do período?"
      ],
      "metadata": {
        "id": "3E5kDFOv-_L4"
      }
    },
    {
      "cell_type": "markdown",
      "source": [
        "O número de semanas cujas vendas semanais foram maiores que a média das vendas de cada loja será nosso segundo critério de decisão. Nesta avaliação, das 23 lojas filtradas na etapa anterior, selecionaremos metade das lojas (arredondando para cima, 12 lojas) que possuem a maior contagem de semanas que superaram a média semanal."
      ],
      "metadata": {
        "id": "4XJEFSSJR0eq"
      }
    },
    {
      "cell_type": "code",
      "source": [
        "# Primeiramente, vamos criar um Dataframe para esse critério. \n",
        "# Ele será o 'df' acrescido da coluna 'Weekly_Sales_Mean' do df_precoMedio\n",
        "df_countWeeks = df.merge(df_precoMedio, on='Store', how='left')\n",
        "\n",
        "# Várias linhas do df_auxiliar possuem valores nulos na coluna 'Weekly_Sales_Mean', pois essa informação está disponível\n",
        "# para apenas 23 lojas. Vamos remover essas linhas.\n",
        "df_countWeeks.dropna(axis=0, inplace=True)\n",
        "\n",
        "# Criando nova coluna chamada 'Count' que receberá True caso o valor de 'Weekly_Sales' for maior que 'Weekly_Sales_Mean\n",
        "df_countWeeks['Count'] = (df_countWeeks['Weekly_Sales'] > df_countWeeks['Weekly_Sales_Mean']) \n",
        "\n",
        "# Agrupando os dados por loja e contando quantas vezes suas vendas semanais foram speriores sua média.\n",
        "# Selecionando apenas as 12 primeiras neste critério.\n",
        "df_countWeeks = df_countWeeks[['Store', 'Count']].groupby('Store').sum().sort_values(by='Count', ascending=False).reset_index().head(12)\n",
        "\n"
      ],
      "metadata": {
        "id": "1zPUqjUh8CEp"
      },
      "execution_count": 16,
      "outputs": []
    },
    {
      "cell_type": "code",
      "source": [
        "# Salvando esse grupo de dados\n",
        "df_countWeeks.to_csv('Count_Weeks.csv')\n",
        "\n",
        "# Exibindo as 23 lojas selecionadas que apresentam maior número de semanas que superaram a média de venda semanal\n",
        "df_countWeeks"
      ],
      "metadata": {
        "colab": {
          "base_uri": "https://localhost:8080/",
          "height": 426
        },
        "id": "aSJHVI0dKkni",
        "outputId": "817d178a-1654-4fd7-a403-aaa938cc2bcd"
      },
      "execution_count": 17,
      "outputs": [
        {
          "output_type": "execute_result",
          "data": {
            "text/plain": [
              "    Store  Count\n",
              "0      26     67\n",
              "1      14     66\n",
              "2      24     63\n",
              "3      41     62\n",
              "4       4     62\n",
              "5      39     61\n",
              "6      18     60\n",
              "7      27     59\n",
              "8      28     58\n",
              "9      23     56\n",
              "10      1     56\n",
              "11      6     56"
            ],
            "text/html": [
              "\n",
              "  <div id=\"df-a3939e5f-8342-4af7-b2ed-f2a872957905\">\n",
              "    <div class=\"colab-df-container\">\n",
              "      <div>\n",
              "<style scoped>\n",
              "    .dataframe tbody tr th:only-of-type {\n",
              "        vertical-align: middle;\n",
              "    }\n",
              "\n",
              "    .dataframe tbody tr th {\n",
              "        vertical-align: top;\n",
              "    }\n",
              "\n",
              "    .dataframe thead th {\n",
              "        text-align: right;\n",
              "    }\n",
              "</style>\n",
              "<table border=\"1\" class=\"dataframe\">\n",
              "  <thead>\n",
              "    <tr style=\"text-align: right;\">\n",
              "      <th></th>\n",
              "      <th>Store</th>\n",
              "      <th>Count</th>\n",
              "    </tr>\n",
              "  </thead>\n",
              "  <tbody>\n",
              "    <tr>\n",
              "      <th>0</th>\n",
              "      <td>26</td>\n",
              "      <td>67</td>\n",
              "    </tr>\n",
              "    <tr>\n",
              "      <th>1</th>\n",
              "      <td>14</td>\n",
              "      <td>66</td>\n",
              "    </tr>\n",
              "    <tr>\n",
              "      <th>2</th>\n",
              "      <td>24</td>\n",
              "      <td>63</td>\n",
              "    </tr>\n",
              "    <tr>\n",
              "      <th>3</th>\n",
              "      <td>41</td>\n",
              "      <td>62</td>\n",
              "    </tr>\n",
              "    <tr>\n",
              "      <th>4</th>\n",
              "      <td>4</td>\n",
              "      <td>62</td>\n",
              "    </tr>\n",
              "    <tr>\n",
              "      <th>5</th>\n",
              "      <td>39</td>\n",
              "      <td>61</td>\n",
              "    </tr>\n",
              "    <tr>\n",
              "      <th>6</th>\n",
              "      <td>18</td>\n",
              "      <td>60</td>\n",
              "    </tr>\n",
              "    <tr>\n",
              "      <th>7</th>\n",
              "      <td>27</td>\n",
              "      <td>59</td>\n",
              "    </tr>\n",
              "    <tr>\n",
              "      <th>8</th>\n",
              "      <td>28</td>\n",
              "      <td>58</td>\n",
              "    </tr>\n",
              "    <tr>\n",
              "      <th>9</th>\n",
              "      <td>23</td>\n",
              "      <td>56</td>\n",
              "    </tr>\n",
              "    <tr>\n",
              "      <th>10</th>\n",
              "      <td>1</td>\n",
              "      <td>56</td>\n",
              "    </tr>\n",
              "    <tr>\n",
              "      <th>11</th>\n",
              "      <td>6</td>\n",
              "      <td>56</td>\n",
              "    </tr>\n",
              "  </tbody>\n",
              "</table>\n",
              "</div>\n",
              "      <button class=\"colab-df-convert\" onclick=\"convertToInteractive('df-a3939e5f-8342-4af7-b2ed-f2a872957905')\"\n",
              "              title=\"Convert this dataframe to an interactive table.\"\n",
              "              style=\"display:none;\">\n",
              "        \n",
              "  <svg xmlns=\"http://www.w3.org/2000/svg\" height=\"24px\"viewBox=\"0 0 24 24\"\n",
              "       width=\"24px\">\n",
              "    <path d=\"M0 0h24v24H0V0z\" fill=\"none\"/>\n",
              "    <path d=\"M18.56 5.44l.94 2.06.94-2.06 2.06-.94-2.06-.94-.94-2.06-.94 2.06-2.06.94zm-11 1L8.5 8.5l.94-2.06 2.06-.94-2.06-.94L8.5 2.5l-.94 2.06-2.06.94zm10 10l.94 2.06.94-2.06 2.06-.94-2.06-.94-.94-2.06-.94 2.06-2.06.94z\"/><path d=\"M17.41 7.96l-1.37-1.37c-.4-.4-.92-.59-1.43-.59-.52 0-1.04.2-1.43.59L10.3 9.45l-7.72 7.72c-.78.78-.78 2.05 0 2.83L4 21.41c.39.39.9.59 1.41.59.51 0 1.02-.2 1.41-.59l7.78-7.78 2.81-2.81c.8-.78.8-2.07 0-2.86zM5.41 20L4 18.59l7.72-7.72 1.47 1.35L5.41 20z\"/>\n",
              "  </svg>\n",
              "      </button>\n",
              "      \n",
              "  <style>\n",
              "    .colab-df-container {\n",
              "      display:flex;\n",
              "      flex-wrap:wrap;\n",
              "      gap: 12px;\n",
              "    }\n",
              "\n",
              "    .colab-df-convert {\n",
              "      background-color: #E8F0FE;\n",
              "      border: none;\n",
              "      border-radius: 50%;\n",
              "      cursor: pointer;\n",
              "      display: none;\n",
              "      fill: #1967D2;\n",
              "      height: 32px;\n",
              "      padding: 0 0 0 0;\n",
              "      width: 32px;\n",
              "    }\n",
              "\n",
              "    .colab-df-convert:hover {\n",
              "      background-color: #E2EBFA;\n",
              "      box-shadow: 0px 1px 2px rgba(60, 64, 67, 0.3), 0px 1px 3px 1px rgba(60, 64, 67, 0.15);\n",
              "      fill: #174EA6;\n",
              "    }\n",
              "\n",
              "    [theme=dark] .colab-df-convert {\n",
              "      background-color: #3B4455;\n",
              "      fill: #D2E3FC;\n",
              "    }\n",
              "\n",
              "    [theme=dark] .colab-df-convert:hover {\n",
              "      background-color: #434B5C;\n",
              "      box-shadow: 0px 1px 3px 1px rgba(0, 0, 0, 0.15);\n",
              "      filter: drop-shadow(0px 1px 2px rgba(0, 0, 0, 0.3));\n",
              "      fill: #FFFFFF;\n",
              "    }\n",
              "  </style>\n",
              "\n",
              "      <script>\n",
              "        const buttonEl =\n",
              "          document.querySelector('#df-a3939e5f-8342-4af7-b2ed-f2a872957905 button.colab-df-convert');\n",
              "        buttonEl.style.display =\n",
              "          google.colab.kernel.accessAllowed ? 'block' : 'none';\n",
              "\n",
              "        async function convertToInteractive(key) {\n",
              "          const element = document.querySelector('#df-a3939e5f-8342-4af7-b2ed-f2a872957905');\n",
              "          const dataTable =\n",
              "            await google.colab.kernel.invokeFunction('convertToInteractive',\n",
              "                                                     [key], {});\n",
              "          if (!dataTable) return;\n",
              "\n",
              "          const docLinkHtml = 'Like what you see? Visit the ' +\n",
              "            '<a target=\"_blank\" href=https://colab.research.google.com/notebooks/data_table.ipynb>data table notebook</a>'\n",
              "            + ' to learn more about interactive tables.';\n",
              "          element.innerHTML = '';\n",
              "          dataTable['output_type'] = 'display_data';\n",
              "          await google.colab.output.renderOutput(dataTable, element);\n",
              "          const docLink = document.createElement('div');\n",
              "          docLink.innerHTML = docLinkHtml;\n",
              "          element.appendChild(docLink);\n",
              "        }\n",
              "      </script>\n",
              "    </div>\n",
              "  </div>\n",
              "  "
            ]
          },
          "metadata": {},
          "execution_count": 17
        }
      ]
    },
    {
      "cell_type": "code",
      "source": [
        "plt.rcParams[\"figure.figsize\"] = (6,4)\n",
        "df_countWeeks.plot(kind='barh',y='Count',x='Store', legend=False)\n",
        "plt.title('Número de semanas que superam média de vendas')\n",
        "plt.xlabel('Número de semanas')\n",
        "plt.ylabel('Loja')\n",
        "plt.savefig('filtro2.png', format='png');"
      ],
      "metadata": {
        "colab": {
          "base_uri": "https://localhost:8080/",
          "height": 295
        },
        "id": "_9DBBkxy0HO_",
        "outputId": "62699a6e-5d76-4193-b4a7-970dbf96b1aa"
      },
      "execution_count": 18,
      "outputs": [
        {
          "output_type": "display_data",
          "data": {
            "text/plain": [
              "<Figure size 432x288 with 1 Axes>"
            ],
            "image/png": "[encoded data removed]"
          },
          "metadata": {
            "needs_background": "light"
          }
        }
      ]
    },
    {
      "cell_type": "markdown",
      "source": [
        "## 5.4 -  Quais lojas apresentaram as maires vendas acumuladas durante semanas de feriado?"
      ],
      "metadata": {
        "id": "XoYlJ6ip9R7f"
      }
    },
    {
      "cell_type": "markdown",
      "source": [
        "Neste quarto critério de avaliação, filtraremos a metade das lojas da etapa anterior que obtiveram maiores valores venda acumulados durante as semanas que tiveram feriado em todo o período de tempo, ou seja, de 05/02/2010 a 01/11/2012.\n",
        "\n",
        "Apesar da matriz de correlação ter nos mostrado um baixo coeficiente de correlação entre as vendas semanais e o fato da semana ter ou não feriado, foi decido utilizar os feriados nessa métrica pois a questão dessas semanas especiais foi exposta pelo cliente."
      ],
      "metadata": {
        "id": "gTPGrXwt5-_A"
      }
    },
    {
      "cell_type": "code",
      "source": [
        "# Criando um array com os identificadores das lojas selecionadas na etapa anterior\n",
        "storeList = df_countWeeks['Store'].unique()\n",
        "\n",
        "# Criando um novo dataframe para esse critério com os dados dessas lojas em que a semana teve feriado.\n",
        "df_holiday = df[df['Store'].isin(storeList)][['Store', 'Weekly_Sales', 'Holiday_Flag']]\n",
        "df_holiday = df_holiday[df_holiday['Holiday_Flag'] == 1][['Store', 'Weekly_Sales']]\n",
        "df_holiday = df_holiday.groupby('Store').sum().sort_values(by='Weekly_Sales', ascending=False).reset_index().head(6)\n",
        "df_holiday.rename(columns={'Weekly_Sales':'Holiday_Sales'}, inplace=True)"
      ],
      "metadata": {
        "id": "E8rSPq1L9WQ4"
      },
      "execution_count": 19,
      "outputs": []
    },
    {
      "cell_type": "code",
      "source": [
        "# Salvando esse grupo de dados\n",
        "df_holiday.to_csv('Holiday.csv')\n",
        "\n",
        "# Exibindo as 6 lojas selecionadas nesta etapa\n",
        "df_holiday"
      ],
      "metadata": {
        "colab": {
          "base_uri": "https://localhost:8080/",
          "height": 238
        },
        "id": "9gGQbSNr9WF-",
        "outputId": "8bd70eca-5c66-43c3-8632-1ed91b4fb22c"
      },
      "execution_count": 20,
      "outputs": [
        {
          "output_type": "execute_result",
          "data": {
            "text/plain": [
              "   Store  Holiday_Sales\n",
              "0      4    22431026.24\n",
              "1     14    21205829.98\n",
              "2     27    18922992.78\n",
              "3      6    16809079.27\n",
              "4      1    16657476.56\n",
              "5     39    15511274.80"
            ],
            "text/html": [
              "\n",
              "  <div id=\"df-5edfcb1c-e4e8-4e0f-8f7f-2d99feb8242b\">\n",
              "    <div class=\"colab-df-container\">\n",
              "      <div>\n",
              "<style scoped>\n",
              "    .dataframe tbody tr th:only-of-type {\n",
              "        vertical-align: middle;\n",
              "    }\n",
              "\n",
              "    .dataframe tbody tr th {\n",
              "        vertical-align: top;\n",
              "    }\n",
              "\n",
              "    .dataframe thead th {\n",
              "        text-align: right;\n",
              "    }\n",
              "</style>\n",
              "<table border=\"1\" class=\"dataframe\">\n",
              "  <thead>\n",
              "    <tr style=\"text-align: right;\">\n",
              "      <th></th>\n",
              "      <th>Store</th>\n",
              "      <th>Holiday_Sales</th>\n",
              "    </tr>\n",
              "  </thead>\n",
              "  <tbody>\n",
              "    <tr>\n",
              "      <th>0</th>\n",
              "      <td>4</td>\n",
              "      <td>22431026.24</td>\n",
              "    </tr>\n",
              "    <tr>\n",
              "      <th>1</th>\n",
              "      <td>14</td>\n",
              "      <td>21205829.98</td>\n",
              "    </tr>\n",
              "    <tr>\n",
              "      <th>2</th>\n",
              "      <td>27</td>\n",
              "      <td>18922992.78</td>\n",
              "    </tr>\n",
              "    <tr>\n",
              "      <th>3</th>\n",
              "      <td>6</td>\n",
              "      <td>16809079.27</td>\n",
              "    </tr>\n",
              "    <tr>\n",
              "      <th>4</th>\n",
              "      <td>1</td>\n",
              "      <td>16657476.56</td>\n",
              "    </tr>\n",
              "    <tr>\n",
              "      <th>5</th>\n",
              "      <td>39</td>\n",
              "      <td>15511274.80</td>\n",
              "    </tr>\n",
              "  </tbody>\n",
              "</table>\n",
              "</div>\n",
              "      <button class=\"colab-df-convert\" onclick=\"convertToInteractive('df-5edfcb1c-e4e8-4e0f-8f7f-2d99feb8242b')\"\n",
              "              title=\"Convert this dataframe to an interactive table.\"\n",
              "              style=\"display:none;\">\n",
              "        \n",
              "  <svg xmlns=\"http://www.w3.org/2000/svg\" height=\"24px\"viewBox=\"0 0 24 24\"\n",
              "       width=\"24px\">\n",
              "    <path d=\"M0 0h24v24H0V0z\" fill=\"none\"/>\n",
              "    <path d=\"M18.56 5.44l.94 2.06.94-2.06 2.06-.94-2.06-.94-.94-2.06-.94 2.06-2.06.94zm-11 1L8.5 8.5l.94-2.06 2.06-.94-2.06-.94L8.5 2.5l-.94 2.06-2.06.94zm10 10l.94 2.06.94-2.06 2.06-.94-2.06-.94-.94-2.06-.94 2.06-2.06.94z\"/><path d=\"M17.41 7.96l-1.37-1.37c-.4-.4-.92-.59-1.43-.59-.52 0-1.04.2-1.43.59L10.3 9.45l-7.72 7.72c-.78.78-.78 2.05 0 2.83L4 21.41c.39.39.9.59 1.41.59.51 0 1.02-.2 1.41-.59l7.78-7.78 2.81-2.81c.8-.78.8-2.07 0-2.86zM5.41 20L4 18.59l7.72-7.72 1.47 1.35L5.41 20z\"/>\n",
              "  </svg>\n",
              "      </button>\n",
              "      \n",
              "  <style>\n",
              "    .colab-df-container {\n",
              "      display:flex;\n",
              "      flex-wrap:wrap;\n",
              "      gap: 12px;\n",
              "    }\n",
              "\n",
              "    .colab-df-convert {\n",
              "      background-color: #E8F0FE;\n",
              "      border: none;\n",
              "      border-radius: 50%;\n",
              "      cursor: pointer;\n",
              "      display: none;\n",
              "      fill: #1967D2;\n",
              "      height: 32px;\n",
              "      padding: 0 0 0 0;\n",
              "      width: 32px;\n",
              "    }\n",
              "\n",
              "    .colab-df-convert:hover {\n",
              "      background-color: #E2EBFA;\n",
              "      box-shadow: 0px 1px 2px rgba(60, 64, 67, 0.3), 0px 1px 3px 1px rgba(60, 64, 67, 0.15);\n",
              "      fill: #174EA6;\n",
              "    }\n",
              "\n",
              "    [theme=dark] .colab-df-convert {\n",
              "      background-color: #3B4455;\n",
              "      fill: #D2E3FC;\n",
              "    }\n",
              "\n",
              "    [theme=dark] .colab-df-convert:hover {\n",
              "      background-color: #434B5C;\n",
              "      box-shadow: 0px 1px 3px 1px rgba(0, 0, 0, 0.15);\n",
              "      filter: drop-shadow(0px 1px 2px rgba(0, 0, 0, 0.3));\n",
              "      fill: #FFFFFF;\n",
              "    }\n",
              "  </style>\n",
              "\n",
              "      <script>\n",
              "        const buttonEl =\n",
              "          document.querySelector('#df-5edfcb1c-e4e8-4e0f-8f7f-2d99feb8242b button.colab-df-convert');\n",
              "        buttonEl.style.display =\n",
              "          google.colab.kernel.accessAllowed ? 'block' : 'none';\n",
              "\n",
              "        async function convertToInteractive(key) {\n",
              "          const element = document.querySelector('#df-5edfcb1c-e4e8-4e0f-8f7f-2d99feb8242b');\n",
              "          const dataTable =\n",
              "            await google.colab.kernel.invokeFunction('convertToInteractive',\n",
              "                                                     [key], {});\n",
              "          if (!dataTable) return;\n",
              "\n",
              "          const docLinkHtml = 'Like what you see? Visit the ' +\n",
              "            '<a target=\"_blank\" href=https://colab.research.google.com/notebooks/data_table.ipynb>data table notebook</a>'\n",
              "            + ' to learn more about interactive tables.';\n",
              "          element.innerHTML = '';\n",
              "          dataTable['output_type'] = 'display_data';\n",
              "          await google.colab.output.renderOutput(dataTable, element);\n",
              "          const docLink = document.createElement('div');\n",
              "          docLink.innerHTML = docLinkHtml;\n",
              "          element.appendChild(docLink);\n",
              "        }\n",
              "      </script>\n",
              "    </div>\n",
              "  </div>\n",
              "  "
            ]
          },
          "metadata": {},
          "execution_count": 20
        }
      ]
    },
    {
      "cell_type": "code",
      "source": [
        "plt.rcParams[\"figure.figsize\"] = (6,4)\n",
        "df_holiday.plot(kind='barh',y='Holiday_Sales',x='Store', legend=False)\n",
        "plt.title('Total de vendas semanais em feriados')\n",
        "plt.xlabel('Total de vendas (10^7)')\n",
        "plt.ylabel('Loja')\n",
        "plt.savefig('filtro3.png', format='png');"
      ],
      "metadata": {
        "colab": {
          "base_uri": "https://localhost:8080/",
          "height": 295
        },
        "id": "xlTsGlI02NqW",
        "outputId": "75416108-95b9-417a-9ea8-2a649f741608"
      },
      "execution_count": 21,
      "outputs": [
        {
          "output_type": "display_data",
          "data": {
            "text/plain": [
              "<Figure size 432x288 with 1 Axes>"
            ],
            "image/png": "[encoded data removed]"
          },
          "metadata": {
            "needs_background": "light"
          }
        }
      ]
    },
    {
      "cell_type": "markdown",
      "source": [
        "## 5.5 - Quais lojas apresentaram maior evolução de vendas semanais ao longo do período? "
      ],
      "metadata": {
        "id": "kGWBChbU5_Ej"
      }
    },
    {
      "cell_type": "markdown",
      "source": [
        "Para este último critério de avaliação, utilizaremos regressão linear para avaliar a evolução das vendas mensais ao longo do período disponível no conjunto de dados.\n",
        "\n",
        "Por fim, a loja selecionada para receber um investimento de expansão será aquela que apresentar maior tendência de alta nas vendas semanais. Neste caso, a loja que apresentar maior coeficiente angular da equação da reta obtida na regressão linear."
      ],
      "metadata": {
        "id": "-nqk4wiYrc7T"
      }
    },
    {
      "cell_type": "code",
      "source": [
        "# Criando um array com os identificadores das lojas selecionadas na etapa anterior\n",
        "storeList2 = df_holiday['Store'].unique()\n",
        "\n",
        "# Criando um novo dataframe para esse critério com os dados dessas lojas para as semanas sem feriado\n",
        "df_salesEvolution = df[df['Store'].isin(storeList2)][['Store', 'Date', 'Weekly_Sales', 'Holiday_Flag']]\n",
        "df_salesEvolution = df_salesEvolution[df_salesEvolution['Holiday_Flag'] == 0][['Store', 'Date', 'Weekly_Sales']]\n",
        "df_salesEvolution.head()"
      ],
      "metadata": {
        "colab": {
          "base_uri": "https://localhost:8080/",
          "height": 206
        },
        "id": "JG0Jnw_2QRw0",
        "outputId": "64c92b5a-fd4f-4e76-c2db-01879127256f"
      },
      "execution_count": 22,
      "outputs": [
        {
          "output_type": "execute_result",
          "data": {
            "text/plain": [
              "   Store       Date  Weekly_Sales\n",
              "0      1 2010-05-02    1643690.90\n",
              "2      1 2010-02-19    1611968.17\n",
              "3      1 2010-02-26    1409727.59\n",
              "4      1 2010-05-03    1554806.68\n",
              "5      1 2010-12-03    1439541.59"
            ],
            "text/html": [
              "\n",
              "  <div id=\"df-54801d37-cf70-4938-99cd-47735ba9bdd0\">\n",
              "    <div class=\"colab-df-container\">\n",
              "      <div>\n",
              "<style scoped>\n",
              "    .dataframe tbody tr th:only-of-type {\n",
              "        vertical-align: middle;\n",
              "    }\n",
              "\n",
              "    .dataframe tbody tr th {\n",
              "        vertical-align: top;\n",
              "    }\n",
              "\n",
              "    .dataframe thead th {\n",
              "        text-align: right;\n",
              "    }\n",
              "</style>\n",
              "<table border=\"1\" class=\"dataframe\">\n",
              "  <thead>\n",
              "    <tr style=\"text-align: right;\">\n",
              "      <th></th>\n",
              "      <th>Store</th>\n",
              "      <th>Date</th>\n",
              "      <th>Weekly_Sales</th>\n",
              "    </tr>\n",
              "  </thead>\n",
              "  <tbody>\n",
              "    <tr>\n",
              "      <th>0</th>\n",
              "      <td>1</td>\n",
              "      <td>2010-05-02</td>\n",
              "      <td>1643690.90</td>\n",
              "    </tr>\n",
              "    <tr>\n",
              "      <th>2</th>\n",
              "      <td>1</td>\n",
              "      <td>2010-02-19</td>\n",
              "      <td>1611968.17</td>\n",
              "    </tr>\n",
              "    <tr>\n",
              "      <th>3</th>\n",
              "      <td>1</td>\n",
              "      <td>2010-02-26</td>\n",
              "      <td>1409727.59</td>\n",
              "    </tr>\n",
              "    <tr>\n",
              "      <th>4</th>\n",
              "      <td>1</td>\n",
              "      <td>2010-05-03</td>\n",
              "      <td>1554806.68</td>\n",
              "    </tr>\n",
              "    <tr>\n",
              "      <th>5</th>\n",
              "      <td>1</td>\n",
              "      <td>2010-12-03</td>\n",
              "      <td>1439541.59</td>\n",
              "    </tr>\n",
              "  </tbody>\n",
              "</table>\n",
              "</div>\n",
              "      <button class=\"colab-df-convert\" onclick=\"convertToInteractive('df-54801d37-cf70-4938-99cd-47735ba9bdd0')\"\n",
              "              title=\"Convert this dataframe to an interactive table.\"\n",
              "              style=\"display:none;\">\n",
              "        \n",
              "  <svg xmlns=\"http://www.w3.org/2000/svg\" height=\"24px\"viewBox=\"0 0 24 24\"\n",
              "       width=\"24px\">\n",
              "    <path d=\"M0 0h24v24H0V0z\" fill=\"none\"/>\n",
              "    <path d=\"M18.56 5.44l.94 2.06.94-2.06 2.06-.94-2.06-.94-.94-2.06-.94 2.06-2.06.94zm-11 1L8.5 8.5l.94-2.06 2.06-.94-2.06-.94L8.5 2.5l-.94 2.06-2.06.94zm10 10l.94 2.06.94-2.06 2.06-.94-2.06-.94-.94-2.06-.94 2.06-2.06.94z\"/><path d=\"M17.41 7.96l-1.37-1.37c-.4-.4-.92-.59-1.43-.59-.52 0-1.04.2-1.43.59L10.3 9.45l-7.72 7.72c-.78.78-.78 2.05 0 2.83L4 21.41c.39.39.9.59 1.41.59.51 0 1.02-.2 1.41-.59l7.78-7.78 2.81-2.81c.8-.78.8-2.07 0-2.86zM5.41 20L4 18.59l7.72-7.72 1.47 1.35L5.41 20z\"/>\n",
              "  </svg>\n",
              "      </button>\n",
              "      \n",
              "  <style>\n",
              "    .colab-df-container {\n",
              "      display:flex;\n",
              "      flex-wrap:wrap;\n",
              "      gap: 12px;\n",
              "    }\n",
              "\n",
              "    .colab-df-convert {\n",
              "      background-color: #E8F0FE;\n",
              "      border: none;\n",
              "      border-radius: 50%;\n",
              "      cursor: pointer;\n",
              "      display: none;\n",
              "      fill: #1967D2;\n",
              "      height: 32px;\n",
              "      padding: 0 0 0 0;\n",
              "      width: 32px;\n",
              "    }\n",
              "\n",
              "    .colab-df-convert:hover {\n",
              "      background-color: #E2EBFA;\n",
              "      box-shadow: 0px 1px 2px rgba(60, 64, 67, 0.3), 0px 1px 3px 1px rgba(60, 64, 67, 0.15);\n",
              "      fill: #174EA6;\n",
              "    }\n",
              "\n",
              "    [theme=dark] .colab-df-convert {\n",
              "      background-color: #3B4455;\n",
              "      fill: #D2E3FC;\n",
              "    }\n",
              "\n",
              "    [theme=dark] .colab-df-convert:hover {\n",
              "      background-color: #434B5C;\n",
              "      box-shadow: 0px 1px 3px 1px rgba(0, 0, 0, 0.15);\n",
              "      filter: drop-shadow(0px 1px 2px rgba(0, 0, 0, 0.3));\n",
              "      fill: #FFFFFF;\n",
              "    }\n",
              "  </style>\n",
              "\n",
              "      <script>\n",
              "        const buttonEl =\n",
              "          document.querySelector('#df-54801d37-cf70-4938-99cd-47735ba9bdd0 button.colab-df-convert');\n",
              "        buttonEl.style.display =\n",
              "          google.colab.kernel.accessAllowed ? 'block' : 'none';\n",
              "\n",
              "        async function convertToInteractive(key) {\n",
              "          const element = document.querySelector('#df-54801d37-cf70-4938-99cd-47735ba9bdd0');\n",
              "          const dataTable =\n",
              "            await google.colab.kernel.invokeFunction('convertToInteractive',\n",
              "                                                     [key], {});\n",
              "          if (!dataTable) return;\n",
              "\n",
              "          const docLinkHtml = 'Like what you see? Visit the ' +\n",
              "            '<a target=\"_blank\" href=https://colab.research.google.com/notebooks/data_table.ipynb>data table notebook</a>'\n",
              "            + ' to learn more about interactive tables.';\n",
              "          element.innerHTML = '';\n",
              "          dataTable['output_type'] = 'display_data';\n",
              "          await google.colab.output.renderOutput(dataTable, element);\n",
              "          const docLink = document.createElement('div');\n",
              "          docLink.innerHTML = docLinkHtml;\n",
              "          element.appendChild(docLink);\n",
              "        }\n",
              "      </script>\n",
              "    </div>\n",
              "  </div>\n",
              "  "
            ]
          },
          "metadata": {},
          "execution_count": 22
        }
      ]
    },
    {
      "cell_type": "code",
      "source": [
        "# Para trabalhar com regressão linear usando datas como variável independente, primeiro precisamos transformar as datas em número ordinal\n",
        "df_salesEvolution['date_ordinal'] = pd.to_datetime(df_salesEvolution['Date']).apply(lambda date: date.toordinal())"
      ],
      "metadata": {
        "id": "HENab4E7L0Et"
      },
      "execution_count": 23,
      "outputs": []
    },
    {
      "cell_type": "code",
      "source": [
        "contador = 1\n",
        "plt.figure(figsize=(10,22));\n",
        "plt.subplots_adjust(hspace = 0.5, wspace = 0.4);\n",
        "\n",
        "for i in storeList2:\n",
        "  plt.subplot(6, 1, contador)\n",
        "\n",
        "  ax = sns.regplot(\n",
        "      data=df_salesEvolution[df_salesEvolution['Store']==i],\n",
        "      x='date_ordinal',\n",
        "      y='Weekly_Sales')\n",
        "\n",
        "  ax.set_xlim(df_salesEvolution['date_ordinal'].min() - 1, df_salesEvolution['date_ordinal'].max() + 1)\n",
        "  ax.set_ylim(bottom=450000, top=4000000)\n",
        "\n",
        "  # Equação da reta\n",
        "  valoresx = df_salesEvolution[df_salesEvolution['Store']==i]['date_ordinal']\n",
        "  valoresy = df_salesEvolution[df_salesEvolution['Store']==i]['Weekly_Sales']\n",
        "  a, b = np. polyfit(valoresx, valoresy, 1)\n",
        "\n",
        "  plt.text(0.7, 0.1, f'y = {a:.2f} x + ({b:.2f})', transform=ax.transAxes)\n",
        "\n",
        "\n",
        "  ax.set_xlabel('Date')\n",
        "  new_labels = [date.fromordinal(int(item)) for item in ax.get_xticks()]\n",
        "  ax.set_xticklabels(new_labels)\n",
        "\n",
        "  ax.set_ylabel('Weekly_Sales (10^6)')\n",
        "\n",
        "  ax.set_title(f'Loja {i}', position=(0.95, 0.86), fontsize=13)\n",
        "  contador += 1\n",
        "\n",
        "plt.show();\n",
        "\n",
        "plt.savefig('Lojas_regressao.png', format='png', dpi=1000);"
      ],
      "metadata": {
        "colab": {
          "base_uri": "https://localhost:8080/",
          "height": 1000
        },
        "id": "LCcLoCaubXls",
        "outputId": "34d076f0-2ca7-49d3-92c5-f76249a80782"
      },
      "execution_count": 32,
      "outputs": [
        {
          "output_type": "display_data",
          "data": {
            "text/plain": [
              "<Figure size 720x1584 with 6 Axes>"
            ],
            "image/png": "[encoded data removed]"
          },
          "metadata": {
            "needs_background": "light"
          }
        },
        {
          "output_type": "display_data",
          "data": {
            "text/plain": [
              "<Figure size 432x288 with 0 Axes>"
            ]
          },
          "metadata": {}
        }
      ]
    },
    {
      "cell_type": "markdown",
      "source": [
        "## 5.6 - Escolha final da loja\n",
        "\n",
        "A loja que passou pela maior evolução ao longo do tempo, apresentando maior coeficiente angular no último critério, é a loja 4, sendo essa a escolhida para receber investimento do Walmart."
      ],
      "metadata": {
        "id": "lyZrAYxmtEyN"
      }
    },
    {
      "cell_type": "code",
      "source": [
        "df.head()"
      ],
      "metadata": {
        "colab": {
          "base_uri": "https://localhost:8080/",
          "height": 206
        },
        "id": "o40ZOlJxAyYb",
        "outputId": "3836ba87-1830-41e0-d9b5-491da5f33c3a"
      },
      "execution_count": 33,
      "outputs": [
        {
          "output_type": "execute_result",
          "data": {
            "text/plain": [
              "   Store       Date  Weekly_Sales  Holiday_Flag  Temperature_Celsius  \\\n",
              "0      1 2010-05-02    1643690.90             0                 5.73   \n",
              "1      1 2010-12-02    1641957.44             1                 3.62   \n",
              "2      1 2010-02-19    1611968.17             0                 4.41   \n",
              "3      1 2010-02-26    1409727.59             0                 8.13   \n",
              "4      1 2010-05-03    1554806.68             0                 8.06   \n",
              "\n",
              "   Fuel_Price         CPI  Unemployment  \n",
              "0       2.572  211.096358         8.106  \n",
              "1       2.548  211.242170         8.106  \n",
              "2       2.514  211.289143         8.106  \n",
              "3       2.561  211.319643         8.106  \n",
              "4       2.625  211.350143         8.106  "
            ],
            "text/html": [
              "\n",
              "  <div id=\"df-ecccfac9-d760-495b-8742-5302e58fa0f0\">\n",
              "    <div class=\"colab-df-container\">\n",
              "      <div>\n",
              "<style scoped>\n",
              "    .dataframe tbody tr th:only-of-type {\n",
              "        vertical-align: middle;\n",
              "    }\n",
              "\n",
              "    .dataframe tbody tr th {\n",
              "        vertical-align: top;\n",
              "    }\n",
              "\n",
              "    .dataframe thead th {\n",
              "        text-align: right;\n",
              "    }\n",
              "</style>\n",
              "<table border=\"1\" class=\"dataframe\">\n",
              "  <thead>\n",
              "    <tr style=\"text-align: right;\">\n",
              "      <th></th>\n",
              "      <th>Store</th>\n",
              "      <th>Date</th>\n",
              "      <th>Weekly_Sales</th>\n",
              "      <th>Holiday_Flag</th>\n",
              "      <th>Temperature_Celsius</th>\n",
              "      <th>Fuel_Price</th>\n",
              "      <th>CPI</th>\n",
              "      <th>Unemployment</th>\n",
              "    </tr>\n",
              "  </thead>\n",
              "  <tbody>\n",
              "    <tr>\n",
              "      <th>0</th>\n",
              "      <td>1</td>\n",
              "      <td>2010-05-02</td>\n",
              "      <td>1643690.90</td>\n",
              "      <td>0</td>\n",
              "      <td>5.73</td>\n",
              "      <td>2.572</td>\n",
              "      <td>211.096358</td>\n",
              "      <td>8.106</td>\n",
              "    </tr>\n",
              "    <tr>\n",
              "      <th>1</th>\n",
              "      <td>1</td>\n",
              "      <td>2010-12-02</td>\n",
              "      <td>1641957.44</td>\n",
              "      <td>1</td>\n",
              "      <td>3.62</td>\n",
              "      <td>2.548</td>\n",
              "      <td>211.242170</td>\n",
              "      <td>8.106</td>\n",
              "    </tr>\n",
              "    <tr>\n",
              "      <th>2</th>\n",
              "      <td>1</td>\n",
              "      <td>2010-02-19</td>\n",
              "      <td>1611968.17</td>\n",
              "      <td>0</td>\n",
              "      <td>4.41</td>\n",
              "      <td>2.514</td>\n",
              "      <td>211.289143</td>\n",
              "      <td>8.106</td>\n",
              "    </tr>\n",
              "    <tr>\n",
              "      <th>3</th>\n",
              "      <td>1</td>\n",
              "      <td>2010-02-26</td>\n",
              "      <td>1409727.59</td>\n",
              "      <td>0</td>\n",
              "      <td>8.13</td>\n",
              "      <td>2.561</td>\n",
              "      <td>211.319643</td>\n",
              "      <td>8.106</td>\n",
              "    </tr>\n",
              "    <tr>\n",
              "      <th>4</th>\n",
              "      <td>1</td>\n",
              "      <td>2010-05-03</td>\n",
              "      <td>1554806.68</td>\n",
              "      <td>0</td>\n",
              "      <td>8.06</td>\n",
              "      <td>2.625</td>\n",
              "      <td>211.350143</td>\n",
              "      <td>8.106</td>\n",
              "    </tr>\n",
              "  </tbody>\n",
              "</table>\n",
              "</div>\n",
              "      <button class=\"colab-df-convert\" onclick=\"convertToInteractive('df-ecccfac9-d760-495b-8742-5302e58fa0f0')\"\n",
              "              title=\"Convert this dataframe to an interactive table.\"\n",
              "              style=\"display:none;\">\n",
              "        \n",
              "  <svg xmlns=\"http://www.w3.org/2000/svg\" height=\"24px\"viewBox=\"0 0 24 24\"\n",
              "       width=\"24px\">\n",
              "    <path d=\"M0 0h24v24H0V0z\" fill=\"none\"/>\n",
              "    <path d=\"M18.56 5.44l.94 2.06.94-2.06 2.06-.94-2.06-.94-.94-2.06-.94 2.06-2.06.94zm-11 1L8.5 8.5l.94-2.06 2.06-.94-2.06-.94L8.5 2.5l-.94 2.06-2.06.94zm10 10l.94 2.06.94-2.06 2.06-.94-2.06-.94-.94-2.06-.94 2.06-2.06.94z\"/><path d=\"M17.41 7.96l-1.37-1.37c-.4-.4-.92-.59-1.43-.59-.52 0-1.04.2-1.43.59L10.3 9.45l-7.72 7.72c-.78.78-.78 2.05 0 2.83L4 21.41c.39.39.9.59 1.41.59.51 0 1.02-.2 1.41-.59l7.78-7.78 2.81-2.81c.8-.78.8-2.07 0-2.86zM5.41 20L4 18.59l7.72-7.72 1.47 1.35L5.41 20z\"/>\n",
              "  </svg>\n",
              "      </button>\n",
              "      \n",
              "  <style>\n",
              "    .colab-df-container {\n",
              "      display:flex;\n",
              "      flex-wrap:wrap;\n",
              "      gap: 12px;\n",
              "    }\n",
              "\n",
              "    .colab-df-convert {\n",
              "      background-color: #E8F0FE;\n",
              "      border: none;\n",
              "      border-radius: 50%;\n",
              "      cursor: pointer;\n",
              "      display: none;\n",
              "      fill: #1967D2;\n",
              "      height: 32px;\n",
              "      padding: 0 0 0 0;\n",
              "      width: 32px;\n",
              "    }\n",
              "\n",
              "    .colab-df-convert:hover {\n",
              "      background-color: #E2EBFA;\n",
              "      box-shadow: 0px 1px 2px rgba(60, 64, 67, 0.3), 0px 1px 3px 1px rgba(60, 64, 67, 0.15);\n",
              "      fill: #174EA6;\n",
              "    }\n",
              "\n",
              "    [theme=dark] .colab-df-convert {\n",
              "      background-color: #3B4455;\n",
              "      fill: #D2E3FC;\n",
              "    }\n",
              "\n",
              "    [theme=dark] .colab-df-convert:hover {\n",
              "      background-color: #434B5C;\n",
              "      box-shadow: 0px 1px 3px 1px rgba(0, 0, 0, 0.15);\n",
              "      filter: drop-shadow(0px 1px 2px rgba(0, 0, 0, 0.3));\n",
              "      fill: #FFFFFF;\n",
              "    }\n",
              "  </style>\n",
              "\n",
              "      <script>\n",
              "        const buttonEl =\n",
              "          document.querySelector('#df-ecccfac9-d760-495b-8742-5302e58fa0f0 button.colab-df-convert');\n",
              "        buttonEl.style.display =\n",
              "          google.colab.kernel.accessAllowed ? 'block' : 'none';\n",
              "\n",
              "        async function convertToInteractive(key) {\n",
              "          const element = document.querySelector('#df-ecccfac9-d760-495b-8742-5302e58fa0f0');\n",
              "          const dataTable =\n",
              "            await google.colab.kernel.invokeFunction('convertToInteractive',\n",
              "                                                     [key], {});\n",
              "          if (!dataTable) return;\n",
              "\n",
              "          const docLinkHtml = 'Like what you see? Visit the ' +\n",
              "            '<a target=\"_blank\" href=https://colab.research.google.com/notebooks/data_table.ipynb>data table notebook</a>'\n",
              "            + ' to learn more about interactive tables.';\n",
              "          element.innerHTML = '';\n",
              "          dataTable['output_type'] = 'display_data';\n",
              "          await google.colab.output.renderOutput(dataTable, element);\n",
              "          const docLink = document.createElement('div');\n",
              "          docLink.innerHTML = docLinkHtml;\n",
              "          element.appendChild(docLink);\n",
              "        }\n",
              "      </script>\n",
              "    </div>\n",
              "  </div>\n",
              "  "
            ]
          },
          "metadata": {},
          "execution_count": 33
        }
      ]
    },
    {
      "cell_type": "code",
      "source": [
        "# Agrupando os detalhes da loja 4 em uma única tabela\n",
        "\n",
        "df_loja4 = df.groupby('Store').sum().reset_index()[['Store', 'Weekly_Sales']].query('Store == 4')\n",
        "\n",
        "df_loja4 = df_loja4.merge(df_precoMedio, on='Store', how='left')\n",
        "\n",
        "min = df[df['Store']==4].min()['Weekly_Sales']\n",
        "df_loja4['Menor venda semanal'] = min\n",
        "\n",
        "max = df[df['Store']==4].max()['Weekly_Sales']\n",
        "df_loja4['Maior venda semanal'] = max\n",
        "\n",
        "df_loja4 = df_loja4.merge(df_countWeeks, on='Store', how='left')\n",
        "df_loja4 = df_loja4.merge(df_holiday, on='Store', how='left')\n",
        "df_loja4.rename(columns={'Store':'Loja', 'Weekly_Sales': 'Total vendas', 'Weekly_Sales_Mean':'Média vendas semanais',\n",
        "                         'Count': 'Semanas acima da média', 'Holiday_Sales':'Total vendas em feriados'}, inplace=True)\n"
      ],
      "metadata": {
        "id": "h2MHSmOfiZA4"
      },
      "execution_count": 34,
      "outputs": []
    },
    {
      "cell_type": "code",
      "source": [
        "df_loja4"
      ],
      "metadata": {
        "colab": {
          "base_uri": "https://localhost:8080/",
          "height": 142
        },
        "id": "zgOaRkf2C0pt",
        "outputId": "dcf2f881-ae66-45fb-a7cf-710bd7d3f5eb"
      },
      "execution_count": 35,
      "outputs": [
        {
          "output_type": "execute_result",
          "data": {
            "text/plain": [
              "   Loja  Total vendas  Média vendas semanais  Menor venda semanal  \\\n",
              "0     4  2.995440e+08           2.094713e+06            1762539.3   \n",
              "\n",
              "   Maior venda semanal  Semanas acima da média  Total vendas em feriados  \n",
              "0           3676388.98                      62               22431026.24  "
            ],
            "text/html": [
              "\n",
              "  <div id=\"df-525aabe6-e3e8-4cb3-8cb3-77ad20477bbf\">\n",
              "    <div class=\"colab-df-container\">\n",
              "      <div>\n",
              "<style scoped>\n",
              "    .dataframe tbody tr th:only-of-type {\n",
              "        vertical-align: middle;\n",
              "    }\n",
              "\n",
              "    .dataframe tbody tr th {\n",
              "        vertical-align: top;\n",
              "    }\n",
              "\n",
              "    .dataframe thead th {\n",
              "        text-align: right;\n",
              "    }\n",
              "</style>\n",
              "<table border=\"1\" class=\"dataframe\">\n",
              "  <thead>\n",
              "    <tr style=\"text-align: right;\">\n",
              "      <th></th>\n",
              "      <th>Loja</th>\n",
              "      <th>Total vendas</th>\n",
              "      <th>Média vendas semanais</th>\n",
              "      <th>Menor venda semanal</th>\n",
              "      <th>Maior venda semanal</th>\n",
              "      <th>Semanas acima da média</th>\n",
              "      <th>Total vendas em feriados</th>\n",
              "    </tr>\n",
              "  </thead>\n",
              "  <tbody>\n",
              "    <tr>\n",
              "      <th>0</th>\n",
              "      <td>4</td>\n",
              "      <td>2.995440e+08</td>\n",
              "      <td>2.094713e+06</td>\n",
              "      <td>1762539.3</td>\n",
              "      <td>3676388.98</td>\n",
              "      <td>62</td>\n",
              "      <td>22431026.24</td>\n",
              "    </tr>\n",
              "  </tbody>\n",
              "</table>\n",
              "</div>\n",
              "      <button class=\"colab-df-convert\" onclick=\"convertToInteractive('df-525aabe6-e3e8-4cb3-8cb3-77ad20477bbf')\"\n",
              "              title=\"Convert this dataframe to an interactive table.\"\n",
              "              style=\"display:none;\">\n",
              "        \n",
              "  <svg xmlns=\"http://www.w3.org/2000/svg\" height=\"24px\"viewBox=\"0 0 24 24\"\n",
              "       width=\"24px\">\n",
              "    <path d=\"M0 0h24v24H0V0z\" fill=\"none\"/>\n",
              "    <path d=\"M18.56 5.44l.94 2.06.94-2.06 2.06-.94-2.06-.94-.94-2.06-.94 2.06-2.06.94zm-11 1L8.5 8.5l.94-2.06 2.06-.94-2.06-.94L8.5 2.5l-.94 2.06-2.06.94zm10 10l.94 2.06.94-2.06 2.06-.94-2.06-.94-.94-2.06-.94 2.06-2.06.94z\"/><path d=\"M17.41 7.96l-1.37-1.37c-.4-.4-.92-.59-1.43-.59-.52 0-1.04.2-1.43.59L10.3 9.45l-7.72 7.72c-.78.78-.78 2.05 0 2.83L4 21.41c.39.39.9.59 1.41.59.51 0 1.02-.2 1.41-.59l7.78-7.78 2.81-2.81c.8-.78.8-2.07 0-2.86zM5.41 20L4 18.59l7.72-7.72 1.47 1.35L5.41 20z\"/>\n",
              "  </svg>\n",
              "      </button>\n",
              "      \n",
              "  <style>\n",
              "    .colab-df-container {\n",
              "      display:flex;\n",
              "      flex-wrap:wrap;\n",
              "      gap: 12px;\n",
              "    }\n",
              "\n",
              "    .colab-df-convert {\n",
              "      background-color: #E8F0FE;\n",
              "      border: none;\n",
              "      border-radius: 50%;\n",
              "      cursor: pointer;\n",
              "      display: none;\n",
              "      fill: #1967D2;\n",
              "      height: 32px;\n",
              "      padding: 0 0 0 0;\n",
              "      width: 32px;\n",
              "    }\n",
              "\n",
              "    .colab-df-convert:hover {\n",
              "      background-color: #E2EBFA;\n",
              "      box-shadow: 0px 1px 2px rgba(60, 64, 67, 0.3), 0px 1px 3px 1px rgba(60, 64, 67, 0.15);\n",
              "      fill: #174EA6;\n",
              "    }\n",
              "\n",
              "    [theme=dark] .colab-df-convert {\n",
              "      background-color: #3B4455;\n",
              "      fill: #D2E3FC;\n",
              "    }\n",
              "\n",
              "    [theme=dark] .colab-df-convert:hover {\n",
              "      background-color: #434B5C;\n",
              "      box-shadow: 0px 1px 3px 1px rgba(0, 0, 0, 0.15);\n",
              "      filter: drop-shadow(0px 1px 2px rgba(0, 0, 0, 0.3));\n",
              "      fill: #FFFFFF;\n",
              "    }\n",
              "  </style>\n",
              "\n",
              "      <script>\n",
              "        const buttonEl =\n",
              "          document.querySelector('#df-525aabe6-e3e8-4cb3-8cb3-77ad20477bbf button.colab-df-convert');\n",
              "        buttonEl.style.display =\n",
              "          google.colab.kernel.accessAllowed ? 'block' : 'none';\n",
              "\n",
              "        async function convertToInteractive(key) {\n",
              "          const element = document.querySelector('#df-525aabe6-e3e8-4cb3-8cb3-77ad20477bbf');\n",
              "          const dataTable =\n",
              "            await google.colab.kernel.invokeFunction('convertToInteractive',\n",
              "                                                     [key], {});\n",
              "          if (!dataTable) return;\n",
              "\n",
              "          const docLinkHtml = 'Like what you see? Visit the ' +\n",
              "            '<a target=\"_blank\" href=https://colab.research.google.com/notebooks/data_table.ipynb>data table notebook</a>'\n",
              "            + ' to learn more about interactive tables.';\n",
              "          element.innerHTML = '';\n",
              "          dataTable['output_type'] = 'display_data';\n",
              "          await google.colab.output.renderOutput(dataTable, element);\n",
              "          const docLink = document.createElement('div');\n",
              "          docLink.innerHTML = docLinkHtml;\n",
              "          element.appendChild(docLink);\n",
              "        }\n",
              "      </script>\n",
              "    </div>\n",
              "  </div>\n",
              "  "
            ]
          },
          "metadata": {},
          "execution_count": 35
        }
      ]
    },
    {
      "cell_type": "code",
      "source": [
        "df_loja4.to_csv('Loja4.csv')"
      ],
      "metadata": {
        "id": "NDyWPz_BDZHV"
      },
      "execution_count": 36,
      "outputs": []
    },
    {
      "cell_type": "code",
      "source": [],
      "metadata": {
        "id": "Ng8v7IfYDqkq"
      },
      "execution_count": null,
      "outputs": []
    }
  ]
}